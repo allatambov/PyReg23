{
 "cells": [
  {
   "cell_type": "markdown",
   "metadata": {},
   "source": [
    "# Введение в регрессионный анализ\n",
    "\n",
    "## Практикум 2. Повторение: описание данных, доверительные интервалы и проверка гипотез\n",
    "\n",
    "*Алла Тамбовцева*"
   ]
  },
  {
   "cell_type": "markdown",
   "metadata": {},
   "source": [
    "Загрузим библиотеки и модули, необходимые для работы:\n",
    "\n",
    "* `numpy` для некоторых арифметических функций;\n",
    "* `pandas` для загрузки и обработки данных;\n",
    "* модуль `stats` из библиотеки `scipy` для построения доверительных интервалов и проверки гипотез."
   ]
  },
  {
   "cell_type": "code",
   "execution_count": 1,
   "metadata": {},
   "outputs": [],
   "source": [
    "import numpy as np\n",
    "import pandas as pd\n",
    "import scipy.stats as st"
   ]
  },
  {
   "cell_type": "markdown",
   "metadata": {},
   "source": [
    "### Часть 1: описательные статистики"
   ]
  },
  {
   "cell_type": "markdown",
   "metadata": {},
   "source": [
    "В этом практикуме мы будем работать с данными по ценам на квартиры в Москве из файла `flats.csv`. Загрузим данные из этого файла и сохраним их в датафрейм `df`:"
   ]
  },
  {
   "cell_type": "code",
   "execution_count": 2,
   "metadata": {},
   "outputs": [],
   "source": [
    "df = pd.read_csv(\"flats.csv\")"
   ]
  },
  {
   "cell_type": "markdown",
   "metadata": {},
   "source": [
    "**Примечание для Jupyter Notebook.** Удобно, если файл с данными при работе лежит в той же папке, что и текущий ipynb-файл, в котором мы запускаем код, так не придется полностью прописывать к нему путь, достаточно одного названия с расширением.\n",
    "\n",
    "**Примечание для Google Colab.** Загрузить файл с данными в облачное хранилище можно через кнопку *Files* (значок папки слева от рабочей области с ячейками), при нажатии на которую появляется возможность выбрать файл с компьютера (значок стрелки). После добавления файла его можно выбрать, кликнуть на три точки справа от названия, скопировать путь через *Copy path* и вставить его в функцию `read_csv()`. Например:\n",
    "\n",
    "    df = pd.read_csv(\"/content/flats.csv\") \n",
    "\n",
    "Посмотрим на датафрейм:"
   ]
  },
  {
   "cell_type": "code",
   "execution_count": 3,
   "metadata": {},
   "outputs": [
    {
     "data": {
      "text/html": [
       "<div>\n",
       "<style scoped>\n",
       "    .dataframe tbody tr th:only-of-type {\n",
       "        vertical-align: middle;\n",
       "    }\n",
       "\n",
       "    .dataframe tbody tr th {\n",
       "        vertical-align: top;\n",
       "    }\n",
       "\n",
       "    .dataframe thead th {\n",
       "        text-align: right;\n",
       "    }\n",
       "</style>\n",
       "<table border=\"1\" class=\"dataframe\">\n",
       "  <thead>\n",
       "    <tr style=\"text-align: right;\">\n",
       "      <th></th>\n",
       "      <th>price</th>\n",
       "      <th>totsp</th>\n",
       "      <th>livesp</th>\n",
       "      <th>kitsp</th>\n",
       "      <th>dist</th>\n",
       "      <th>metrdist</th>\n",
       "      <th>walk</th>\n",
       "      <th>brick</th>\n",
       "      <th>floor</th>\n",
       "    </tr>\n",
       "  </thead>\n",
       "  <tbody>\n",
       "    <tr>\n",
       "      <th>0</th>\n",
       "      <td>730</td>\n",
       "      <td>134</td>\n",
       "      <td>102</td>\n",
       "      <td>10.0</td>\n",
       "      <td>9.0</td>\n",
       "      <td>10</td>\n",
       "      <td>1</td>\n",
       "      <td>1</td>\n",
       "      <td>1</td>\n",
       "    </tr>\n",
       "    <tr>\n",
       "      <th>1</th>\n",
       "      <td>477</td>\n",
       "      <td>119</td>\n",
       "      <td>93</td>\n",
       "      <td>15.0</td>\n",
       "      <td>9.0</td>\n",
       "      <td>1</td>\n",
       "      <td>1</td>\n",
       "      <td>0</td>\n",
       "      <td>1</td>\n",
       "    </tr>\n",
       "    <tr>\n",
       "      <th>2</th>\n",
       "      <td>350</td>\n",
       "      <td>80</td>\n",
       "      <td>44</td>\n",
       "      <td>14.0</td>\n",
       "      <td>10.5</td>\n",
       "      <td>10</td>\n",
       "      <td>1</td>\n",
       "      <td>1</td>\n",
       "      <td>0</td>\n",
       "    </tr>\n",
       "    <tr>\n",
       "      <th>3</th>\n",
       "      <td>410</td>\n",
       "      <td>102</td>\n",
       "      <td>75</td>\n",
       "      <td>10.0</td>\n",
       "      <td>6.5</td>\n",
       "      <td>5</td>\n",
       "      <td>1</td>\n",
       "      <td>1</td>\n",
       "      <td>1</td>\n",
       "    </tr>\n",
       "    <tr>\n",
       "      <th>4</th>\n",
       "      <td>50</td>\n",
       "      <td>63</td>\n",
       "      <td>47</td>\n",
       "      <td>7.0</td>\n",
       "      <td>12.0</td>\n",
       "      <td>20</td>\n",
       "      <td>0</td>\n",
       "      <td>1</td>\n",
       "      <td>0</td>\n",
       "    </tr>\n",
       "    <tr>\n",
       "      <th>...</th>\n",
       "      <td>...</td>\n",
       "      <td>...</td>\n",
       "      <td>...</td>\n",
       "      <td>...</td>\n",
       "      <td>...</td>\n",
       "      <td>...</td>\n",
       "      <td>...</td>\n",
       "      <td>...</td>\n",
       "      <td>...</td>\n",
       "    </tr>\n",
       "    <tr>\n",
       "      <th>2035</th>\n",
       "      <td>117</td>\n",
       "      <td>76</td>\n",
       "      <td>43</td>\n",
       "      <td>10.0</td>\n",
       "      <td>12.0</td>\n",
       "      <td>5</td>\n",
       "      <td>1</td>\n",
       "      <td>0</td>\n",
       "      <td>1</td>\n",
       "    </tr>\n",
       "    <tr>\n",
       "      <th>2036</th>\n",
       "      <td>91</td>\n",
       "      <td>60</td>\n",
       "      <td>44</td>\n",
       "      <td>6.0</td>\n",
       "      <td>14.5</td>\n",
       "      <td>7</td>\n",
       "      <td>1</td>\n",
       "      <td>0</td>\n",
       "      <td>1</td>\n",
       "    </tr>\n",
       "    <tr>\n",
       "      <th>2037</th>\n",
       "      <td>94</td>\n",
       "      <td>65</td>\n",
       "      <td>40</td>\n",
       "      <td>8.0</td>\n",
       "      <td>14.5</td>\n",
       "      <td>15</td>\n",
       "      <td>1</td>\n",
       "      <td>0</td>\n",
       "      <td>1</td>\n",
       "    </tr>\n",
       "    <tr>\n",
       "      <th>2038</th>\n",
       "      <td>110</td>\n",
       "      <td>74</td>\n",
       "      <td>44</td>\n",
       "      <td>10.0</td>\n",
       "      <td>13.0</td>\n",
       "      <td>7</td>\n",
       "      <td>1</td>\n",
       "      <td>0</td>\n",
       "      <td>1</td>\n",
       "    </tr>\n",
       "    <tr>\n",
       "      <th>2039</th>\n",
       "      <td>90</td>\n",
       "      <td>61</td>\n",
       "      <td>43</td>\n",
       "      <td>6.0</td>\n",
       "      <td>14.5</td>\n",
       "      <td>10</td>\n",
       "      <td>1</td>\n",
       "      <td>0</td>\n",
       "      <td>1</td>\n",
       "    </tr>\n",
       "  </tbody>\n",
       "</table>\n",
       "<p>2040 rows × 9 columns</p>\n",
       "</div>"
      ],
      "text/plain": [
       "      price  totsp  livesp  kitsp  dist  metrdist  walk  brick  floor\n",
       "0       730    134     102   10.0   9.0        10     1      1      1\n",
       "1       477    119      93   15.0   9.0         1     1      0      1\n",
       "2       350     80      44   14.0  10.5        10     1      1      0\n",
       "3       410    102      75   10.0   6.5         5     1      1      1\n",
       "4        50     63      47    7.0  12.0        20     0      1      0\n",
       "...     ...    ...     ...    ...   ...       ...   ...    ...    ...\n",
       "2035    117     76      43   10.0  12.0         5     1      0      1\n",
       "2036     91     60      44    6.0  14.5         7     1      0      1\n",
       "2037     94     65      40    8.0  14.5        15     1      0      1\n",
       "2038    110     74      44   10.0  13.0         7     1      0      1\n",
       "2039     90     61      43    6.0  14.5        10     1      0      1\n",
       "\n",
       "[2040 rows x 9 columns]"
      ]
     },
     "execution_count": 3,
     "metadata": {},
     "output_type": "execute_result"
    }
   ],
   "source": [
    "df"
   ]
  },
  {
   "cell_type": "markdown",
   "metadata": {},
   "source": [
    "Переменные в файле: \n",
    "\n",
    "* `price`: цена квартиры, в тысячах долларов;\n",
    "* `totsp`: общая площадь, в кв.метрах;\n",
    "* `livesp`: жилая площадь, в кв.метрах;\n",
    "* `kitsp`: площадь кухни, в кв.метрах;\n",
    "* `dist`: расстояние до центра города, в км;\n",
    "* `metrdist`: расстояние до метро, в мин;\n",
    "* `walk`: шаговая доступность до метро, 0 или 1;\n",
    "* `brick`: дом из кирпича или аналогичного «капитального» материала, 0 или 1; • floor: удобный ли этаж (не первый и последний), 0 или 1."
   ]
  },
  {
   "cell_type": "markdown",
   "metadata": {},
   "source": [
    "Посмотрим на переменные и проверим, что все переменные корректных типов (например, числа считаны как числа, а не как текст):"
   ]
  },
  {
   "cell_type": "code",
   "execution_count": 4,
   "metadata": {},
   "outputs": [
    {
     "name": "stdout",
     "output_type": "stream",
     "text": [
      "<class 'pandas.core.frame.DataFrame'>\n",
      "RangeIndex: 2040 entries, 0 to 2039\n",
      "Data columns (total 9 columns):\n",
      " #   Column    Non-Null Count  Dtype  \n",
      "---  ------    --------------  -----  \n",
      " 0   price     2040 non-null   int64  \n",
      " 1   totsp     2040 non-null   int64  \n",
      " 2   livesp    2040 non-null   int64  \n",
      " 3   kitsp     2040 non-null   float64\n",
      " 4   dist      2040 non-null   float64\n",
      " 5   metrdist  2040 non-null   int64  \n",
      " 6   walk      2040 non-null   int64  \n",
      " 7   brick     2040 non-null   int64  \n",
      " 8   floor     2040 non-null   int64  \n",
      "dtypes: float64(2), int64(7)\n",
      "memory usage: 143.6 KB\n"
     ]
    }
   ],
   "source": [
    "df.info()"
   ]
  },
  {
   "cell_type": "markdown",
   "metadata": {},
   "source": [
    "Примечание: тип `int` — целочисленный (*integer*), тип `float` — вещественный, может включать в себя как дробные, так и целочисленные значения."
   ]
  },
  {
   "cell_type": "markdown",
   "metadata": {},
   "source": [
    "Посмотрим на описательные статистики по всем столбцам:"
   ]
  },
  {
   "cell_type": "code",
   "execution_count": 5,
   "metadata": {},
   "outputs": [
    {
     "data": {
      "text/html": [
       "<div>\n",
       "<style scoped>\n",
       "    .dataframe tbody tr th:only-of-type {\n",
       "        vertical-align: middle;\n",
       "    }\n",
       "\n",
       "    .dataframe tbody tr th {\n",
       "        vertical-align: top;\n",
       "    }\n",
       "\n",
       "    .dataframe thead th {\n",
       "        text-align: right;\n",
       "    }\n",
       "</style>\n",
       "<table border=\"1\" class=\"dataframe\">\n",
       "  <thead>\n",
       "    <tr style=\"text-align: right;\">\n",
       "      <th></th>\n",
       "      <th>price</th>\n",
       "      <th>totsp</th>\n",
       "      <th>livesp</th>\n",
       "      <th>kitsp</th>\n",
       "      <th>dist</th>\n",
       "      <th>metrdist</th>\n",
       "      <th>walk</th>\n",
       "      <th>brick</th>\n",
       "      <th>floor</th>\n",
       "    </tr>\n",
       "  </thead>\n",
       "  <tbody>\n",
       "    <tr>\n",
       "      <th>count</th>\n",
       "      <td>2040.000000</td>\n",
       "      <td>2040.000000</td>\n",
       "      <td>2040.000000</td>\n",
       "      <td>2040.000000</td>\n",
       "      <td>2040.000000</td>\n",
       "      <td>2040.000000</td>\n",
       "      <td>2040.000000</td>\n",
       "      <td>2040.000000</td>\n",
       "      <td>2040.000000</td>\n",
       "    </tr>\n",
       "    <tr>\n",
       "      <th>mean</th>\n",
       "      <td>127.496569</td>\n",
       "      <td>73.084314</td>\n",
       "      <td>46.337255</td>\n",
       "      <td>8.898529</td>\n",
       "      <td>11.015686</td>\n",
       "      <td>8.117157</td>\n",
       "      <td>0.685784</td>\n",
       "      <td>0.323039</td>\n",
       "      <td>0.790686</td>\n",
       "    </tr>\n",
       "    <tr>\n",
       "      <th>std</th>\n",
       "      <td>51.878220</td>\n",
       "      <td>15.123450</td>\n",
       "      <td>7.894348</td>\n",
       "      <td>2.787073</td>\n",
       "      <td>3.375539</td>\n",
       "      <td>3.815574</td>\n",
       "      <td>0.464317</td>\n",
       "      <td>0.467752</td>\n",
       "      <td>0.406918</td>\n",
       "    </tr>\n",
       "    <tr>\n",
       "      <th>min</th>\n",
       "      <td>50.000000</td>\n",
       "      <td>44.000000</td>\n",
       "      <td>28.000000</td>\n",
       "      <td>5.000000</td>\n",
       "      <td>3.000000</td>\n",
       "      <td>1.000000</td>\n",
       "      <td>0.000000</td>\n",
       "      <td>0.000000</td>\n",
       "      <td>0.000000</td>\n",
       "    </tr>\n",
       "    <tr>\n",
       "      <th>25%</th>\n",
       "      <td>95.000000</td>\n",
       "      <td>62.000000</td>\n",
       "      <td>42.000000</td>\n",
       "      <td>7.000000</td>\n",
       "      <td>9.000000</td>\n",
       "      <td>5.000000</td>\n",
       "      <td>0.000000</td>\n",
       "      <td>0.000000</td>\n",
       "      <td>1.000000</td>\n",
       "    </tr>\n",
       "    <tr>\n",
       "      <th>50%</th>\n",
       "      <td>115.000000</td>\n",
       "      <td>73.500000</td>\n",
       "      <td>45.000000</td>\n",
       "      <td>9.000000</td>\n",
       "      <td>12.000000</td>\n",
       "      <td>7.000000</td>\n",
       "      <td>1.000000</td>\n",
       "      <td>0.000000</td>\n",
       "      <td>1.000000</td>\n",
       "    </tr>\n",
       "    <tr>\n",
       "      <th>75%</th>\n",
       "      <td>142.000000</td>\n",
       "      <td>79.000000</td>\n",
       "      <td>50.000000</td>\n",
       "      <td>10.000000</td>\n",
       "      <td>13.500000</td>\n",
       "      <td>10.000000</td>\n",
       "      <td>1.000000</td>\n",
       "      <td>1.000000</td>\n",
       "      <td>1.000000</td>\n",
       "    </tr>\n",
       "    <tr>\n",
       "      <th>max</th>\n",
       "      <td>730.000000</td>\n",
       "      <td>192.000000</td>\n",
       "      <td>102.000000</td>\n",
       "      <td>25.000000</td>\n",
       "      <td>17.000000</td>\n",
       "      <td>20.000000</td>\n",
       "      <td>1.000000</td>\n",
       "      <td>1.000000</td>\n",
       "      <td>1.000000</td>\n",
       "    </tr>\n",
       "  </tbody>\n",
       "</table>\n",
       "</div>"
      ],
      "text/plain": [
       "             price        totsp       livesp        kitsp         dist  \\\n",
       "count  2040.000000  2040.000000  2040.000000  2040.000000  2040.000000   \n",
       "mean    127.496569    73.084314    46.337255     8.898529    11.015686   \n",
       "std      51.878220    15.123450     7.894348     2.787073     3.375539   \n",
       "min      50.000000    44.000000    28.000000     5.000000     3.000000   \n",
       "25%      95.000000    62.000000    42.000000     7.000000     9.000000   \n",
       "50%     115.000000    73.500000    45.000000     9.000000    12.000000   \n",
       "75%     142.000000    79.000000    50.000000    10.000000    13.500000   \n",
       "max     730.000000   192.000000   102.000000    25.000000    17.000000   \n",
       "\n",
       "          metrdist         walk        brick        floor  \n",
       "count  2040.000000  2040.000000  2040.000000  2040.000000  \n",
       "mean      8.117157     0.685784     0.323039     0.790686  \n",
       "std       3.815574     0.464317     0.467752     0.406918  \n",
       "min       1.000000     0.000000     0.000000     0.000000  \n",
       "25%       5.000000     0.000000     0.000000     1.000000  \n",
       "50%       7.000000     1.000000     0.000000     1.000000  \n",
       "75%      10.000000     1.000000     1.000000     1.000000  \n",
       "max      20.000000     1.000000     1.000000     1.000000  "
      ]
     },
     "execution_count": 5,
     "metadata": {},
     "output_type": "execute_result"
    }
   ],
   "source": [
    "df.describe()"
   ]
  },
  {
   "cell_type": "markdown",
   "metadata": {},
   "source": [
    "Теперь обратимся к ценам на квартиры и запросим отдельно описательные статистики для них:"
   ]
  },
  {
   "cell_type": "code",
   "execution_count": 6,
   "metadata": {},
   "outputs": [
    {
     "data": {
      "text/plain": [
       "count    2040.000000\n",
       "mean      127.496569\n",
       "std        51.878220\n",
       "min        50.000000\n",
       "25%        95.000000\n",
       "50%       115.000000\n",
       "75%       142.000000\n",
       "max       730.000000\n",
       "Name: price, dtype: float64"
      ]
     },
     "execution_count": 6,
     "metadata": {},
     "output_type": "execute_result"
    }
   ],
   "source": [
    "df[\"price\"].describe() # внимание на среднее и медиану"
   ]
  },
  {
   "cell_type": "markdown",
   "metadata": {},
   "source": [
    "**Что со средним и медианой?** Среднее сильно больше медианы, сигнал о том, что в выборке, скорее всего, будут нетипично большие значения, а значит, распределение будет скошено вправо."
   ]
  },
  {
   "cell_type": "markdown",
   "metadata": {},
   "source": [
    "Построим гистограмму для визуализации распределения цен:"
   ]
  },
  {
   "cell_type": "code",
   "execution_count": 7,
   "metadata": {},
   "outputs": [
    {
     "data": {
      "text/plain": [
       "<matplotlib.axes._subplots.AxesSubplot at 0x1a213f9e50>"
      ]
     },
     "execution_count": 7,
     "metadata": {},
     "output_type": "execute_result"
    }
   ],
   "source": [
    "# метод .hist()\n",
    "# color – цвет заливки\n",
    "# edgecolor – цвет границ столбцов\n",
    "\n",
    "df[\"price\"].hist(color = \"cornflowerblue\", edgecolor = \"white\")"
   ]
  },
  {
   "cell_type": "markdown",
   "metadata": {},
   "source": [
    "**Комментарий:** и здесь тоже видим скошенность вправо! "
   ]
  },
  {
   "cell_type": "markdown",
   "metadata": {},
   "source": [
    "Сравним среднее, медиану и моду:"
   ]
  },
  {
   "cell_type": "code",
   "execution_count": 8,
   "metadata": {},
   "outputs": [
    {
     "name": "stdout",
     "output_type": "stream",
     "text": [
      "127.49656862745098\n",
      "115.0\n",
      "0    110\n",
      "dtype: int64\n"
     ]
    }
   ],
   "source": [
    "print(df[\"price\"].mean())\n",
    "print(df[\"price\"].median())\n",
    "print(df[\"price\"].mode())"
   ]
  },
  {
   "cell_type": "markdown",
   "metadata": {},
   "source": [
    "**Комментарий:** мода < медиана < среднее, снова подтвержаем скошенность вправо. "
   ]
  },
  {
   "cell_type": "markdown",
   "metadata": {},
   "source": [
    "Проделаем то же для показателя `livesp` –  изучим распределение жилой площади квартир:"
   ]
  },
  {
   "cell_type": "code",
   "execution_count": 9,
   "metadata": {},
   "outputs": [
    {
     "data": {
      "text/plain": [
       "<matplotlib.axes._subplots.AxesSubplot at 0x1a21c4c350>"
      ]
     },
     "execution_count": 9,
     "metadata": {},
     "output_type": "execute_result"
    },
    {
     "data": {
      "image/png": "[encoded data removed]",
      "text/plain": [
       "<Figure size 432x288 with 1 Axes>"
      ]
     },
     "metadata": {
      "needs_background": "light"
     },
     "output_type": "display_data"
    }
   ],
   "source": [
    "# для разнообразия границы столбцов здесь черные\n",
    "# k – сокращение от black, там как b зарезервировано за blue\n",
    "\n",
    "df[\"livesp\"].hist(color = \"cornflowerblue\", edgecolor = \"k\")"
   ]
  },
  {
   "cell_type": "code",
   "execution_count": 10,
   "metadata": {},
   "outputs": [
    {
     "name": "stdout",
     "output_type": "stream",
     "text": [
      "46.33725490196078\n",
      "45.0\n",
      "0    45\n",
      "dtype: int64\n"
     ]
    }
   ],
   "source": [
    "print(df[\"livesp\"].mean())\n",
    "print(df[\"livesp\"].median())\n",
    "print(df[\"livesp\"].mode())"
   ]
  },
  {
   "cell_type": "markdown",
   "metadata": {},
   "source": [
    "**Комментарий:** тут тоже распределение скошено вправо, но совсем не такая радикально, как в предыдущем случае. Медиана и мода совпадают, а вот среднее чуть-чуть повыше. "
   ]
  },
  {
   "cell_type": "markdown",
   "metadata": {},
   "source": [
    "Посмотрим также на особенности распределения расстояния до центра (`dist`):"
   ]
  },
  {
   "cell_type": "code",
   "execution_count": 11,
   "metadata": {},
   "outputs": [
    {
     "data": {
      "text/plain": [
       "<matplotlib.axes._subplots.AxesSubplot at 0x1a21d06c10>"
      ]
     },
     "execution_count": 11,
     "metadata": {},
     "output_type": "execute_result"
    },
    {
     "data": {
      "image/png": "[encoded data removed]",
      "text/plain": [
       "<Figure size 432x288 with 1 Axes>"
      ]
     },
     "metadata": {
      "needs_background": "light"
     },
     "output_type": "display_data"
    }
   ],
   "source": [
    "df[\"dist\"].hist(color = \"cornflowerblue\", edgecolor = \"k\")"
   ]
  },
  {
   "cell_type": "code",
   "execution_count": 12,
   "metadata": {},
   "outputs": [
    {
     "name": "stdout",
     "output_type": "stream",
     "text": [
      "11.015686274509823\n",
      "12.0\n",
      "0    12.0\n",
      "dtype: float64\n"
     ]
    }
   ],
   "source": [
    "print(df[\"dist\"].mean())\n",
    "print(df[\"dist\"].median())\n",
    "print(df[\"dist\"].mode())"
   ]
  },
  {
   "cell_type": "markdown",
   "metadata": {},
   "source": [
    "**Комментарий:** вот тут уже скошенность влево, опять же не очень радикальная. Видно, что «хвост» распределения слева достаточно длинный, но при этом нельзя сказать, что значения в этом «хвосте» очень редкие, высоты столбиков около 100. Среднее чуть меньше медианы, тоже сигнал о небольшой скошенности влево."
   ]
  },
  {
   "cell_type": "markdown",
   "metadata": {},
   "source": [
    "### Часть 2: доверительные интервалы"
   ]
  },
  {
   "cell_type": "markdown",
   "metadata": {},
   "source": [
    "Итак, вернемся к ценам на квартиры:"
   ]
  },
  {
   "cell_type": "code",
   "execution_count": 13,
   "metadata": {},
   "outputs": [
    {
     "data": {
      "text/plain": [
       "count    2040.000000\n",
       "mean      127.496569\n",
       "std        51.878220\n",
       "min        50.000000\n",
       "25%        95.000000\n",
       "50%       115.000000\n",
       "75%       142.000000\n",
       "max       730.000000\n",
       "Name: price, dtype: float64"
      ]
     },
     "execution_count": 13,
     "metadata": {},
     "output_type": "execute_result"
    }
   ],
   "source": [
    "df[\"price\"].describe()"
   ]
  },
  {
   "cell_type": "markdown",
   "metadata": {},
   "source": [
    "Средняя цена квартиры примерно равна 127 тысячам долларов. Но, на самом деле, истинное среднее значение цены может быть немного иным, ведь далеко не все квартиры вошли в выборку, в Москве их явно не 2040!\n",
    "\n",
    "Чтобы учесть такую неопределенность в наших оценках, построим **95%-ный доверительный интервал для среднего**. Вспомним, как он считается:\n",
    "\n",
    "$$\n",
    "\\hat{\\mu} - 2 \\times s_{\\hat{\\mu}} < \\mu < \\hat{\\mu} + 2 \\times s_{\\hat{\\mu}}.\n",
    "$$\n",
    "\n",
    "Здесь $\\mu$ – среднее генеральной совокупности, которое нам неизвестно и которое мы хотим оценить с помощью доверительного интервала, $\\hat{\\mu}$ – среднее, полученное по выборке, $s_{\\hat{\\mu}}$ – стандартное отклонение среднего, тоже полученное по выборке, которое вычисляется на основе стандартного отклонения самой выборки $s$ и ее объема $n$:\n",
    "\n",
    "$$\n",
    "s_{\\hat{\\mu}} = \\frac{s}{\\sqrt{n}}\n",
    "$$\n"
   ]
  },
  {
   "cell_type": "markdown",
   "metadata": {},
   "source": [
    "Итак, соберем все составные части для формулы:"
   ]
  },
  {
   "cell_type": "code",
   "execution_count": 14,
   "metadata": {},
   "outputs": [],
   "source": [
    "n = df[\"price\"].size  # размер выборки\n",
    "mu_hat = df[\"price\"].mean()  # среднее выборки mu^\n",
    "s = df[\"price\"].std()  # ст отклонение выборки s"
   ]
  },
  {
   "cell_type": "markdown",
   "metadata": {},
   "source": [
    "Вычислим стандартное отклонение среднего:"
   ]
  },
  {
   "cell_type": "code",
   "execution_count": 15,
   "metadata": {},
   "outputs": [
    {
     "data": {
      "text/plain": [
       "1.1486030879486555"
      ]
     },
     "execution_count": 15,
     "metadata": {},
     "output_type": "execute_result"
    }
   ],
   "source": [
    "s_mu_hat = s / np.sqrt(n)\n",
    "s_mu_hat"
   ]
  },
  {
   "cell_type": "markdown",
   "metadata": {},
   "source": [
    "Отлично! Осталось все собрать воедино и посчитать границы доверительного интервала! Подставим все в формулу:"
   ]
  },
  {
   "cell_type": "code",
   "execution_count": 16,
   "metadata": {},
   "outputs": [
    {
     "data": {
      "text/plain": [
       "(125.19936245155367, 129.7937748033483)"
      ]
     },
     "execution_count": 16,
     "metadata": {},
     "output_type": "execute_result"
    }
   ],
   "source": [
    "(mu_hat - 2 * s_mu_hat, mu_hat + 2 * s_mu_hat) # давайте проинтерпретируем!"
   ]
  },
  {
   "cell_type": "markdown",
   "metadata": {},
   "source": [
    "**Интерпретация:** c 95%-ной уверенностью мы можем утверждать, что истинное значение средней цены квартиры в Москве лежит в интервале от 125 до 130 тысяч долларов."
   ]
  },
  {
   "cell_type": "markdown",
   "metadata": {},
   "source": [
    "Тот же самый интервал мы могли бы посчитать, воспользовавшись специальной функцией из модуля `stats` библиотеки `scipy` (от *Scientific Python*). Сама функция называется `norm.interval()` позволяет строить некоторые интервалы, предполагая, что те оценки, для которых мы эти интервалы строим, берутся из нормального распределения с некоторым средним (`loc`) и некоторым стандартным отклонением (`scale`). Можем подставить наши значения `mu_hat` и `s_mu_hat` в качестве параметров такого распределения и зафиксировать уровень доверия:"
   ]
  },
  {
   "cell_type": "code",
   "execution_count": 17,
   "metadata": {},
   "outputs": [
    {
     "data": {
      "text/plain": [
       "(125.24534794254012, 129.74778931236185)"
      ]
     },
     "execution_count": 17,
     "metadata": {},
     "output_type": "execute_result"
    }
   ],
   "source": [
    "st.norm.interval(0.95, loc = mu_hat, scale = s_mu_hat)"
   ]
  },
  {
   "cell_type": "markdown",
   "metadata": {},
   "source": [
    "Данный интервал чуть более точный, чем тот, который мы посчитали ранее, потому что значение, на которое мы домножаем `s_mu_hat`, на самом деле, не совсем 2, а чуть поменьше (1.96, если вспомнить курс по теории вероятностей)."
   ]
  },
  {
   "cell_type": "markdown",
   "metadata": {},
   "source": [
    "### Часть 3: проверка гипотез и коэффициент корреляции Пирсона"
   ]
  },
  {
   "cell_type": "markdown",
   "metadata": {},
   "source": [
    "Теперь давайте посмотрим на связи между показателями в количественной шкале. Допустим, нас интересует связь между жилой площадью квартиры и ее ценой.\n",
    "\n",
    "Для начала построим диаграмму рассеивания:"
   ]
  },
  {
   "cell_type": "code",
   "execution_count": 18,
   "metadata": {},
   "outputs": [
    {
     "data": {
      "text/plain": [
       "<matplotlib.axes._subplots.AxesSubplot at 0x106bc7cd0>"
      ]
     },
     "execution_count": 18,
     "metadata": {},
     "output_type": "execute_result"
    },
    {
     "data": {
      "image/png": "[encoded data removed]",
      "text/plain": [
       "<Figure size 432x288 with 1 Axes>"
      ]
     },
     "metadata": {
      "needs_background": "light"
     },
     "output_type": "display_data"
    }
   ],
   "source": [
    "df.plot.scatter(x = \"livesp\", y = \"price\") # проинтерпретируем"
   ]
  },
  {
   "cell_type": "markdown",
   "metadata": {},
   "source": [
    "**Интерпретация:** связь между жилой площадью и ценой квартиры прямая и достаточно сильная. Единственное, на графике есть не совсем типичное наблюдение – точка, соответствующая очень большой и дорогой квартире. Теоретически, ее наличие может искажать полученную оценку коэффициента корреляции (коэффициент Пирсона чувствителен к выбросам), но так как в данном случае точка не очень сильно отстоит от основного облака точек, искажение не будет критичным (можете проверить – отфильтровать наблюдения и сравнить коэффициенты для данных с этой точкой и без нее)."
   ]
  },
  {
   "cell_type": "markdown",
   "metadata": {},
   "source": [
    "Вычислим коэффициент корреляции Пирсона и проверим его значимость – гипотезу о том, что истинное значение этого коэффициента (значение для всех генеральной совокупности, для всех квартир) равно 0:"
   ]
  },
  {
   "cell_type": "markdown",
   "metadata": {},
   "source": [
    "$$\n",
    "H_0:R=0 \\text{ (линейной связи нет) }\n",
    "$$\n",
    "$$ \n",
    "H_1:R\\ne0 \\text{ (линейная связь есть) }\n",
    "$$"
   ]
  },
  {
   "cell_type": "code",
   "execution_count": 19,
   "metadata": {},
   "outputs": [
    {
     "data": {
      "text/plain": [
       "(0.7296136021085436, 0.0)"
      ]
     },
     "execution_count": 19,
     "metadata": {},
     "output_type": "execute_result"
    }
   ],
   "source": [
    "st.pearsonr(df[\"livesp\"], df[\"price\"]) # проинтерпретируем!"
   ]
  },
  {
   "cell_type": "markdown",
   "metadata": {},
   "source": [
    "**Интерпретация.** Коэффициент корреляции Пирсона равен 0.72 (связь прямая, близкая к сильной), оценка коэффициента значимо отличается от 0 на 5%-ном уровне значимости (и любом другом разумном уровне значимости, так как p-value примерно 0). Следовательно, связь между показателями действительно есть."
   ]
  }
 ],
 "metadata": {
  "kernelspec": {
   "display_name": "Python 3",
   "language": "python",
   "name": "python3"
  },
  "language_info": {
   "codemirror_mode": {
    "name": "ipython",
    "version": 3
   },
   "file_extension": ".py",
   "mimetype": "text/x-python",
   "name": "python",
   "nbconvert_exporter": "python",
   "pygments_lexer": "ipython3",
   "version": "3.7.4"
  }
 },
 "nbformat": 4,
 "nbformat_minor": 2
}
