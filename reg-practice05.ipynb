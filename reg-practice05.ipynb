{
 "cells": [
  {
   "cell_type": "markdown",
   "metadata": {},
   "source": [
    "# Введение в регрессионный анализ\n",
    "\n",
    "## Практикум 5. Множественная линейная регрессия\n",
    "\n",
    "*Алла Тамбовцева*"
   ]
  },
  {
   "cell_type": "markdown",
   "metadata": {},
   "source": [
    "### Подготовка к работе: импорт необходимых библиотек"
   ]
  },
  {
   "cell_type": "markdown",
   "metadata": {},
   "source": [
    "Импортируем библиотеку `pandas` для загрузки и обработки данных, модуль `pyplot` для построения графиков и функцию `ols()` из `statsmodels` для построения линейных моделей."
   ]
  },
  {
   "cell_type": "code",
   "execution_count": 3,
   "metadata": {},
   "outputs": [],
   "source": [
    "import pandas as pd\n",
    "from matplotlib import pyplot as plt\n",
    "from statsmodels.formula.api import ols"
   ]
  },
  {
   "cell_type": "markdown",
   "metadata": {},
   "source": [
    "### Сюжет 1. Множественные линейные модели"
   ]
  },
  {
   "cell_type": "markdown",
   "metadata": {},
   "source": [
    "Загрузим данные из файла `networks.csv`, с которыми работали в прошлый раз:"
   ]
  },
  {
   "cell_type": "code",
   "execution_count": 4,
   "metadata": {},
   "outputs": [
    {
     "data": {
      "text/html": [
       "<div>\n",
       "<style scoped>\n",
       "    .dataframe tbody tr th:only-of-type {\n",
       "        vertical-align: middle;\n",
       "    }\n",
       "\n",
       "    .dataframe tbody tr th {\n",
       "        vertical-align: top;\n",
       "    }\n",
       "\n",
       "    .dataframe thead th {\n",
       "        text-align: right;\n",
       "    }\n",
       "</style>\n",
       "<table border=\"1\" class=\"dataframe\">\n",
       "  <thead>\n",
       "    <tr style=\"text-align: right;\">\n",
       "      <th></th>\n",
       "      <th>Unnamed: 0</th>\n",
       "      <th>phase</th>\n",
       "      <th>character</th>\n",
       "      <th>idusers</th>\n",
       "      <th>idnetwork</th>\n",
       "      <th>hint_cloth</th>\n",
       "      <th>hint_col</th>\n",
       "      <th>hat_guess</th>\n",
       "      <th>shirt_guess</th>\n",
       "      <th>pant_guess</th>\n",
       "      <th>...</th>\n",
       "      <th>score_glove</th>\n",
       "      <th>score</th>\n",
       "      <th>num_corrects</th>\n",
       "      <th>num_mistakes</th>\n",
       "      <th>grey</th>\n",
       "      <th>winner</th>\n",
       "      <th>grp_act_num</th>\n",
       "      <th>grp_num_corrects</th>\n",
       "      <th>grp_num_mistakes</th>\n",
       "      <th>pos</th>\n",
       "    </tr>\n",
       "  </thead>\n",
       "  <tbody>\n",
       "    <tr>\n",
       "      <th>0</th>\n",
       "      <td>1</td>\n",
       "      <td>1.0</td>\n",
       "      <td>Freddie</td>\n",
       "      <td>358</td>\n",
       "      <td>1</td>\n",
       "      <td>cappello</td>\n",
       "      <td>nero</td>\n",
       "      <td>9.0</td>\n",
       "      <td>5.0</td>\n",
       "      <td>4.0</td>\n",
       "      <td>...</td>\n",
       "      <td>10.0</td>\n",
       "      <td>50.0</td>\n",
       "      <td>5.0</td>\n",
       "      <td>0.0</td>\n",
       "      <td>0.0</td>\n",
       "      <td>1.0</td>\n",
       "      <td>5.0</td>\n",
       "      <td>25.0</td>\n",
       "      <td>0.0</td>\n",
       "      <td>a</td>\n",
       "    </tr>\n",
       "    <tr>\n",
       "      <th>1</th>\n",
       "      <td>3</td>\n",
       "      <td>1.0</td>\n",
       "      <td>Piergiorgio</td>\n",
       "      <td>603</td>\n",
       "      <td>1</td>\n",
       "      <td>guanti</td>\n",
       "      <td>bianco</td>\n",
       "      <td>10.0</td>\n",
       "      <td>10.0</td>\n",
       "      <td>2.0</td>\n",
       "      <td>...</td>\n",
       "      <td>10.0</td>\n",
       "      <td>20.0</td>\n",
       "      <td>2.0</td>\n",
       "      <td>0.0</td>\n",
       "      <td>3.0</td>\n",
       "      <td>1.0</td>\n",
       "      <td>5.0</td>\n",
       "      <td>11.0</td>\n",
       "      <td>2.0</td>\n",
       "      <td>a</td>\n",
       "    </tr>\n",
       "    <tr>\n",
       "      <th>2</th>\n",
       "      <td>8</td>\n",
       "      <td>1.0</td>\n",
       "      <td>Marshall</td>\n",
       "      <td>447</td>\n",
       "      <td>1</td>\n",
       "      <td>cappello</td>\n",
       "      <td>bianco</td>\n",
       "      <td>8.0</td>\n",
       "      <td>2.0</td>\n",
       "      <td>2.0</td>\n",
       "      <td>...</td>\n",
       "      <td>10.0</td>\n",
       "      <td>50.0</td>\n",
       "      <td>5.0</td>\n",
       "      <td>0.0</td>\n",
       "      <td>0.0</td>\n",
       "      <td>1.0</td>\n",
       "      <td>5.0</td>\n",
       "      <td>21.0</td>\n",
       "      <td>1.0</td>\n",
       "      <td>a</td>\n",
       "    </tr>\n",
       "    <tr>\n",
       "      <th>3</th>\n",
       "      <td>14</td>\n",
       "      <td>1.0</td>\n",
       "      <td>Alberto</td>\n",
       "      <td>184</td>\n",
       "      <td>1</td>\n",
       "      <td>guanti</td>\n",
       "      <td>blu</td>\n",
       "      <td>4.0</td>\n",
       "      <td>5.0</td>\n",
       "      <td>7.0</td>\n",
       "      <td>...</td>\n",
       "      <td>10.0</td>\n",
       "      <td>5.0</td>\n",
       "      <td>2.0</td>\n",
       "      <td>3.0</td>\n",
       "      <td>0.0</td>\n",
       "      <td>0.0</td>\n",
       "      <td>5.0</td>\n",
       "      <td>16.0</td>\n",
       "      <td>8.0</td>\n",
       "      <td>a</td>\n",
       "    </tr>\n",
       "    <tr>\n",
       "      <th>4</th>\n",
       "      <td>18</td>\n",
       "      <td>1.0</td>\n",
       "      <td>Teseo</td>\n",
       "      <td>1417</td>\n",
       "      <td>1</td>\n",
       "      <td>cappello</td>\n",
       "      <td>arancione</td>\n",
       "      <td>2.0</td>\n",
       "      <td>3.0</td>\n",
       "      <td>1.0</td>\n",
       "      <td>...</td>\n",
       "      <td>10.0</td>\n",
       "      <td>35.0</td>\n",
       "      <td>4.0</td>\n",
       "      <td>1.0</td>\n",
       "      <td>0.0</td>\n",
       "      <td>1.0</td>\n",
       "      <td>5.0</td>\n",
       "      <td>15.0</td>\n",
       "      <td>4.0</td>\n",
       "      <td>a</td>\n",
       "    </tr>\n",
       "  </tbody>\n",
       "</table>\n",
       "<p>5 rows × 31 columns</p>\n",
       "</div>"
      ],
      "text/plain": [
       "   Unnamed: 0  phase    character  idusers  idnetwork hint_cloth   hint_col  \\\n",
       "0           1    1.0      Freddie      358          1   cappello       nero   \n",
       "1           3    1.0  Piergiorgio      603          1     guanti     bianco   \n",
       "2           8    1.0     Marshall      447          1   cappello     bianco   \n",
       "3          14    1.0      Alberto      184          1     guanti        blu   \n",
       "4          18    1.0        Teseo     1417          1   cappello  arancione   \n",
       "\n",
       "   hat_guess  shirt_guess  pant_guess  ...  score_glove  score  num_corrects  \\\n",
       "0        9.0          5.0         4.0  ...         10.0   50.0           5.0   \n",
       "1       10.0         10.0         2.0  ...         10.0   20.0           2.0   \n",
       "2        8.0          2.0         2.0  ...         10.0   50.0           5.0   \n",
       "3        4.0          5.0         7.0  ...         10.0    5.0           2.0   \n",
       "4        2.0          3.0         1.0  ...         10.0   35.0           4.0   \n",
       "\n",
       "   num_mistakes  grey  winner  grp_act_num  grp_num_corrects  \\\n",
       "0           0.0   0.0     1.0          5.0              25.0   \n",
       "1           0.0   3.0     1.0          5.0              11.0   \n",
       "2           0.0   0.0     1.0          5.0              21.0   \n",
       "3           3.0   0.0     0.0          5.0              16.0   \n",
       "4           1.0   0.0     1.0          5.0              15.0   \n",
       "\n",
       "   grp_num_mistakes  pos  \n",
       "0               0.0    a  \n",
       "1               2.0    a  \n",
       "2               1.0    a  \n",
       "3               8.0    a  \n",
       "4               4.0    a  \n",
       "\n",
       "[5 rows x 31 columns]"
      ]
     },
     "execution_count": 4,
     "metadata": {},
     "output_type": "execute_result"
    }
   ],
   "source": [
    "df = pd.read_csv(\"networks.csv\")\n",
    "df.head()"
   ]
  },
  {
   "cell_type": "markdown",
   "metadata": {},
   "source": [
    "В прошлый раз мы частично воспроизводили модель из статьи E.Patacchini et al \"Information Transmission in a Social Network: A Field Experiment\" и пытались выяснить, зависит ли успешность групповой работы от типа устройства сети сообщества, при условии, что тип сети определяет характер передачи информации, которая приближает группу к выигрышу. Построим модель, показывающую связь между общегрупповым числом правильных ответов и типом сети:"
   ]
  },
  {
   "cell_type": "code",
   "execution_count": 5,
   "metadata": {},
   "outputs": [
    {
     "name": "stdout",
     "output_type": "stream",
     "text": [
      "                            OLS Regression Results                            \n",
      "==============================================================================\n",
      "Dep. Variable:       grp_num_corrects   R-squared:                       0.046\n",
      "Model:                            OLS   Adj. R-squared:                  0.043\n",
      "Method:                 Least Squares   F-statistic:                     15.89\n",
      "Date:                Fri, 13 Oct 2023   Prob (F-statistic):           1.82e-07\n",
      "Time:                        04:04:21   Log-Likelihood:                -2057.7\n",
      "No. Observations:                 660   AIC:                             4121.\n",
      "Df Residuals:                     657   BIC:                             4135.\n",
      "Df Model:                           2                                         \n",
      "Covariance Type:            nonrobust                                         \n",
      "=====================================================================================\n",
      "                        coef    std err          t      P>|t|      [0.025      0.975]\n",
      "-------------------------------------------------------------------------------------\n",
      "Intercept            16.4615      0.392     41.952      0.000      15.691      17.232\n",
      "C(idnetwork)[T.2]    -0.7542      0.548     -1.376      0.169      -1.830       0.322\n",
      "C(idnetwork)[T.3]     2.0000      0.519      3.853      0.000       0.981       3.019\n",
      "==============================================================================\n",
      "Omnibus:                      360.199   Durbin-Watson:                   2.021\n",
      "Prob(Omnibus):                  0.000   Jarque-Bera (JB):               37.621\n",
      "Skew:                          -0.001   Prob(JB):                     6.77e-09\n",
      "Kurtosis:                       1.830   Cond. No.                         3.95\n",
      "==============================================================================\n",
      "\n",
      "Warnings:\n",
      "[1] Standard Errors assume that the covariance matrix of the errors is correctly specified.\n"
     ]
    }
   ],
   "source": [
    "# C() нужно для того, чтобы Python считал эту переменную\n",
    "# категориальной (C – categorical), то есть нечисловой\n",
    "\n",
    "mod01 = ols(\"grp_num_corrects ~ C(idnetwork)\", df).fit()\n",
    "print(mod01.summary())"
   ]
  },
  {
   "cell_type": "markdown",
   "metadata": {},
   "source": [
    "**Интерпретация:** \n",
    "\n",
    "* `Intercept`: константа модели, содержательно это среднее значение зависимой переменной в базовой категории. Базовая категория здесь – это группы, устроенные по первому типу сети, с `idnetwork` равной 1, так как эта категория «выкинута» из выдачи. То есть, мы можем сказать, что среднее общегрупповое число верных ответов в группах, устроенных по типу первой сети, примерно равно 16. \n",
    "\n",
    "* `C(idnetwork)[T.2]`: коэффициент при втором типе сети, показывает разницу средних значений зависимой переменной в этой категории и базовой категории. Можем сказать, что среднее общегрупповое число верных ответов в группах, устроенных по типу второй сети, ниже на 0.75 (то есть примерно на 1), чем среднее число верных ответов в группах, устроенных по типу первой сети. Однако этот коэффициент является незначимым на любом разумном уровне значимости (и на 5%, и на 10%) в силу высокого p-value 0.169, поэтому интерпретировать его особого смысла нет. \n",
    "\n",
    "* `C(idnetwork)[T.3]`: коэффициент при третьем типе сети, показывает разницу средних значений зависимой переменной в этой категории и базовой категории. Можем сказать, что среднее общегрупповое число верных ответов в группах, устроенных по типу третьей сети, на 2 выше, чем среднее число верных ответов в группах, устроенных по типу первой сети. Оценка коэффициента в данном случае статистически значима на 5%-ном уровне значимости (и на 1%-ном тоже), поэтому различия точно есть. Выходит, третий тип сети самый выгодный, если нас интересует максимизация выигрыша всей группы."
   ]
  },
  {
   "cell_type": "markdown",
   "metadata": {},
   "source": [
    "Теперь перейдем к более интересной модели. Про групповую работу (точнее, про зачёт правильных ответов на уровне группы) мы выяснили, давайте посмотрим на индивидуальные достижения участников и их успехи. \n",
    "\n",
    "Построим модель, где зависимой переменной является балл, полученный игроком в индивидуальном зачете (`score`), а независимыми – число правильных ответов и тип сети."
   ]
  },
  {
   "cell_type": "code",
   "execution_count": 6,
   "metadata": {},
   "outputs": [
    {
     "name": "stdout",
     "output_type": "stream",
     "text": [
      "                            OLS Regression Results                            \n",
      "==============================================================================\n",
      "Dep. Variable:                  score   R-squared:                       0.938\n",
      "Model:                            OLS   Adj. R-squared:                  0.938\n",
      "Method:                 Least Squares   F-statistic:                     3301.\n",
      "Date:                Fri, 13 Oct 2023   Prob (F-statistic):               0.00\n",
      "Time:                        04:04:24   Log-Likelihood:                -1868.3\n",
      "No. Observations:                 660   AIC:                             3745.\n",
      "Df Residuals:                     656   BIC:                             3763.\n",
      "Df Model:                           3                                         \n",
      "Covariance Type:            nonrobust                                         \n",
      "=====================================================================================\n",
      "                        coef    std err          t      P>|t|      [0.025      0.975]\n",
      "-------------------------------------------------------------------------------------\n",
      "Intercept            -6.0417      0.478    -12.651      0.000      -6.980      -5.104\n",
      "C(idnetwork)[T.2]     0.3558      0.412      0.863      0.388      -0.453       1.165\n",
      "C(idnetwork)[T.3]    -0.6832      0.393     -1.740      0.082      -1.454       0.088\n",
      "num_corrects         11.2432      0.114     98.507      0.000      11.019      11.467\n",
      "==============================================================================\n",
      "Omnibus:                      258.581   Durbin-Watson:                   1.958\n",
      "Prob(Omnibus):                  0.000   Jarque-Bera (JB):              884.230\n",
      "Skew:                          -1.886   Prob(JB):                    9.82e-193\n",
      "Kurtosis:                       7.234   Cond. No.                         14.3\n",
      "==============================================================================\n",
      "\n",
      "Warnings:\n",
      "[1] Standard Errors assume that the covariance matrix of the errors is correctly specified.\n"
     ]
    }
   ],
   "source": [
    "# проинтерпретируем\n",
    "\n",
    "mod02 = ols(\"score ~ C(idnetwork) + num_corrects\", df).fit()\n",
    "print(mod02.summary())"
   ]
  },
  {
   "cell_type": "markdown",
   "metadata": {},
   "source": [
    "**Интерпретация:** \n",
    "\n",
    "* `Intercept`: константа модели, содержательно это среднее значение зависимой переменной в базовой категории в случае, если `num_corrects` равно 0 (здесь уже есть еще одна независимая переменная). То есть, мы можем сказать, что средний балл участника в группах, устроенных по типу первой сети, примерно равен $-6$ **в случае, если участник дает 0 правильных ответов**, то есть постоянно ошибается. Что интересно, здесь наличие отрицательной константы вполне логично с содержательной точки зрения: если игрок ошибается, из его балла вычитаются штрафные очки, то есть при наличии только неправильных ответов он уходит в минус.\n",
    "\n",
    "* `C(idnetwork)[T.2]`: коэффициент при втором типе сети (предельный эффект второго типа сети), показывает разницу средних значений зависимой переменной в этой категории и базовой категории **при прочих равных условиях**, то есть, если мы сравниваем участников с равным числом верных ответов `num_corrects`.  Оценка коэффициента вновь не является статистически значимой, p-value очень большое, поэтому подробно интерпретировать этот коэффициент не будем.\n",
    "\n",
    "* `C(idnetwork)[T.3]`: коэффициент при третьем типе сети (предельный эффект третьего типа сети), показывает разницу средних значений зависимой переменной в этой категории и базовой категории **при прочих равных условиях**, то есть, если мы сравниваем участников с равным числом верных ответов `num_corrects`. Можем сказать, что средний балл участников в группах, устроенных по типу третьей сети, при прочих равных условиях, на 0.68 ниже, чем среднее число верных ответов в группах, устроенных по типу первой сети. Оценка коэффициента в данном случае статистически значима на 10%-ном уровне значимости, но не значима на 5%-ном уровне значимости. \n",
    "\n",
    "* `num_corrects`: коэффициент при числе правильных ответов, показывает, как и на сколько, в среднем, при прочих равных условиях, изменяется значение `score` при увеличении числа правильных ответов на один. Содержательно, если принять во внимание оговорку «при прочих равных» и то, что экспериментально заставлять участников увеличивать или уменьшать число правильных ответов мы не можем, получим такую интерпретацию: если мы будем сравнивать итоговый балл двух участников в пределах одного и того же типа сети (=при прочих равных), у того участника, у которого число правильных ответов на один больше, итоговый балл будет, в среднем, на 11 выше. Оценка коэффициента статистически значима на любом конвенциональном уровне значимости, что неудивительно: связь между `num_corrects` и `score` очень сильная, так как `num_corrects` непосредственно участвует в формировании итогового балла `score`.\n",
    "\n",
    "\n",
    "Высокий $R^2$ данной модели, с одной стороны, показывает ее высокую объясняющую и прогностическую силу, модель объясняет почти 94% дисперсии итоговых баллов в игре. Но, с другой стороны, в данном конкретном случае это не означает, что мы построили какую-то супер-модель, наоборот, модель очевидна: итоговый балл `score` напрямую зависит от числа правильных ответов `num_corrects`, так как итоговый балл рассчитывается на основе правильных ответов и штрафных очков. Отсюда и значимость коэффициента при `num_corrects` в сочетании с потерей значимости у коэффициента при `C(idnetwork)[T.3]` – эта переменная «перетянула» на себя весь эффект, очевидно, что зависимость между итоговый баллом и числом правильных ответов окажется более сильной, чем зависимость итоговых баллов от типа сети. \n",
    "\n",
    "Модель не очень удачная, но очень хотелось рассмотреть пример модели, где высокий $R^2$ не гарантирует ее качества на содержательном уровне. \n",
    "\n",
    "В завершение обсуждения этой модели вопрос: можно ли считать переменную `num_corrects` контрольной, предполагая, что нас больше всего интересует эффект типа сети на набранное число очков? Нет, так как контрольная переменная должна на содержательном уровне оказывать влияние и на независимую переменную интереса в модели, и на зависимую переменную. Здесь число правильных ответов точно оказывает влияние на итоговый результат, а вот на тип сети не влияет никак, участники по группам распределялись случайным образом, к тому же еще до начала игры."
   ]
  },
  {
   "cell_type": "markdown",
   "metadata": {},
   "source": [
    "### Сюжет 2. Графики коэффициентов модели\n",
    "\n",
    "Часто для того, чтобы визуализировать результаты множественной регрессии (а многомерные графики Python и другой софт не строит, трехмерные еще строит, но и они не всегда удобны), используют график коэффициентов, он же *coefficient plot* или *coefplot*. \n",
    "\n",
    "Давайте тоже такой график построим! Но выглядеть это будет немного дико. Не будем погружаться в код, просто смиримся, что готовой удобной функции нет, поэтому пришлось позаимствовать и откорректировать кем-то уже написанную огромную функцию:"
   ]
  },
  {
   "cell_type": "code",
   "execution_count": 7,
   "metadata": {},
   "outputs": [],
   "source": [
    "# как вы думаете, почему такие сложности?\n",
    "# разработчики библиотеки seaborn с 2017 года решили \n",
    "# убрать удобную функцию, которая строила графики по аналогии с R\n",
    "\n",
    "def coefplot(results):\n",
    "    '''\n",
    "    Takes in results of OLS model and returns a plot of \n",
    "    the coefficients with 95% confidence intervals.\n",
    "    \n",
    "    Removes intercept.\n",
    "    '''\n",
    "    # Create dataframe of results summary \n",
    "    coef_df = pd.DataFrame(results.summary().tables[1].data)\n",
    "    coef_df.columns = coef_df.iloc[0]\n",
    "    \n",
    "    coef_df = coef_df.drop(0)\n",
    "    coef_df = coef_df.set_index(coef_df.columns[0])\n",
    "    coef_df = coef_df.astype(float)\n",
    "\n",
    "    errors = coef_df['coef'] - coef_df['[0.025']\n",
    "    coef_df['errors'] = errors\n",
    "    coef_df = coef_df.sort_values(by=['coef'])\n",
    "\n",
    "    variables = list(coef_df.index.values)\n",
    "    coef_df['variables'] = variables\n",
    "    \n",
    "    # Create coefficients plot\n",
    "    fig, ax = plt.subplots(figsize = (16, 9))\n",
    "    \n",
    "    # dots for coefficients\n",
    "    ax.scatter(x = pd.np.arange(coef_df.shape[0]), \n",
    "               y = coef_df['coef'], \n",
    "               marker = 'o', s = 50, color='steelblue')\n",
    "    \n",
    "    # bars for coefficients\n",
    "    coef_df.plot(x = 'variables', y = 'coef', \n",
    "                 kind = 'bar', ax = ax, \n",
    "                 color = 'none', ecolor = 'steelblue',\n",
    "                 yerr = 'errors', legend = False)\n",
    "    \n",
    "    # vertical line at y = 0\n",
    "    ax.axhline(y = 0, linestyle = '--', color = 'red', \n",
    "               linewidth = 1);\n",
    "    \n",
    "    ax.set_ylabel('Coefficients');\n",
    "    \n",
    "    return plt.show()"
   ]
  },
  {
   "cell_type": "markdown",
   "metadata": {},
   "source": [
    "Но применять эту функцию уже не так страшно, мы должны подать ей на вход результаты нашей модели, то есть объект, который мы получаем через применение `.fit()` к результатам `ols()`:"
   ]
  },
  {
   "cell_type": "code",
   "execution_count": 8,
   "metadata": {},
   "outputs": [
    {
     "name": "stderr",
     "output_type": "stream",
     "text": [
      "/opt/anaconda3/lib/python3.7/site-packages/ipykernel_launcher.py:31: FutureWarning: The pandas.np module is deprecated and will be removed from pandas in a future version. Import numpy directly instead\n"
     ]
    },
    {
     "data": {
      "image/png": "[encoded data removed]",
      "text/plain": [
       "<Figure size 1152x648 with 1 Axes>"
      ]
     },
     "metadata": {
      "needs_background": "light"
     },
     "output_type": "display_data"
    }
   ],
   "source": [
    "coefplot(mod02)"
   ]
  },
  {
   "cell_type": "markdown",
   "metadata": {},
   "source": [
    "Готово! Данный график является альтернативой таблицы с результатами линейной регрессии, глядя на него можно понять, какие коэффициенты являются значимыми на 95%-ном уровне доверия или 5%-ном уровне значимости. На графике отмечаются оценки коэффициентов при всех независимых переменных (и константа, в статьях ее обычно убирают) и 95%-ные доверительные интервалы для них. Если доверительный интервал включает значение 0 (то есть пересекает соответствующую 0 пунктирную линию), то на этом уровне доверия оценка коэффициента не будет статистически значима. Если не включает – все хорошо, оценка значима. \n",
    "\n",
    "В нашем случае мы можем увидеть, что статистически значимая оценка на 5%-ном уровне значимости тут одна, это оценка коэффициента при `num_corrects`, мы это уже видели по обычной выдаче.\n",
    "\n",
    "Как строятся такие доверительные интервалы и что еще более концептуального можно вынести из этих графиков – см. в семинарском листочке."
   ]
  },
  {
   "cell_type": "markdown",
   "metadata": {},
   "source": [
    "### Сюжет 3: множественная модель и регрессия остатков на остатки"
   ]
  },
  {
   "cell_type": "markdown",
   "metadata": {},
   "source": [
    "Чтобы разобрать этот сюжет, давайте вернёмся к более понятным данным по квартирам в Москве:"
   ]
  },
  {
   "cell_type": "code",
   "execution_count": 9,
   "metadata": {},
   "outputs": [
    {
     "data": {
      "text/html": [
       "<div>\n",
       "<style scoped>\n",
       "    .dataframe tbody tr th:only-of-type {\n",
       "        vertical-align: middle;\n",
       "    }\n",
       "\n",
       "    .dataframe tbody tr th {\n",
       "        vertical-align: top;\n",
       "    }\n",
       "\n",
       "    .dataframe thead th {\n",
       "        text-align: right;\n",
       "    }\n",
       "</style>\n",
       "<table border=\"1\" class=\"dataframe\">\n",
       "  <thead>\n",
       "    <tr style=\"text-align: right;\">\n",
       "      <th></th>\n",
       "      <th>price</th>\n",
       "      <th>totsp</th>\n",
       "      <th>livesp</th>\n",
       "      <th>kitsp</th>\n",
       "      <th>dist</th>\n",
       "      <th>metrdist</th>\n",
       "      <th>walk</th>\n",
       "      <th>brick</th>\n",
       "      <th>floor</th>\n",
       "    </tr>\n",
       "  </thead>\n",
       "  <tbody>\n",
       "    <tr>\n",
       "      <th>0</th>\n",
       "      <td>730</td>\n",
       "      <td>134</td>\n",
       "      <td>102</td>\n",
       "      <td>10.0</td>\n",
       "      <td>9.0</td>\n",
       "      <td>10</td>\n",
       "      <td>1</td>\n",
       "      <td>1</td>\n",
       "      <td>1</td>\n",
       "    </tr>\n",
       "    <tr>\n",
       "      <th>1</th>\n",
       "      <td>477</td>\n",
       "      <td>119</td>\n",
       "      <td>93</td>\n",
       "      <td>15.0</td>\n",
       "      <td>9.0</td>\n",
       "      <td>1</td>\n",
       "      <td>1</td>\n",
       "      <td>0</td>\n",
       "      <td>1</td>\n",
       "    </tr>\n",
       "    <tr>\n",
       "      <th>2</th>\n",
       "      <td>350</td>\n",
       "      <td>80</td>\n",
       "      <td>44</td>\n",
       "      <td>14.0</td>\n",
       "      <td>10.5</td>\n",
       "      <td>10</td>\n",
       "      <td>1</td>\n",
       "      <td>1</td>\n",
       "      <td>0</td>\n",
       "    </tr>\n",
       "    <tr>\n",
       "      <th>3</th>\n",
       "      <td>410</td>\n",
       "      <td>102</td>\n",
       "      <td>75</td>\n",
       "      <td>10.0</td>\n",
       "      <td>6.5</td>\n",
       "      <td>5</td>\n",
       "      <td>1</td>\n",
       "      <td>1</td>\n",
       "      <td>1</td>\n",
       "    </tr>\n",
       "    <tr>\n",
       "      <th>4</th>\n",
       "      <td>50</td>\n",
       "      <td>63</td>\n",
       "      <td>47</td>\n",
       "      <td>7.0</td>\n",
       "      <td>12.0</td>\n",
       "      <td>20</td>\n",
       "      <td>0</td>\n",
       "      <td>1</td>\n",
       "      <td>0</td>\n",
       "    </tr>\n",
       "  </tbody>\n",
       "</table>\n",
       "</div>"
      ],
      "text/plain": [
       "   price  totsp  livesp  kitsp  dist  metrdist  walk  brick  floor\n",
       "0    730    134     102   10.0   9.0        10     1      1      1\n",
       "1    477    119      93   15.0   9.0         1     1      0      1\n",
       "2    350     80      44   14.0  10.5        10     1      1      0\n",
       "3    410    102      75   10.0   6.5         5     1      1      1\n",
       "4     50     63      47    7.0  12.0        20     0      1      0"
      ]
     },
     "execution_count": 9,
     "metadata": {},
     "output_type": "execute_result"
    }
   ],
   "source": [
    "flats = pd.read_csv(\"flats.csv\")\n",
    "flats.head()"
   ]
  },
  {
   "cell_type": "markdown",
   "metadata": {},
   "source": [
    "Построим простую модель, где у нас две независимые переменные, одна количественная, другая – бинарная, модель, показывающую, каким образом цена квартиры зависит от ее общей площади и шаговой доступности метро:"
   ]
  },
  {
   "cell_type": "code",
   "execution_count": 10,
   "metadata": {},
   "outputs": [
    {
     "name": "stdout",
     "output_type": "stream",
     "text": [
      "                            OLS Regression Results                            \n",
      "==============================================================================\n",
      "Dep. Variable:                  price   R-squared:                       0.592\n",
      "Model:                            OLS   Adj. R-squared:                  0.592\n",
      "Method:                 Least Squares   F-statistic:                     1478.\n",
      "Date:                Fri, 13 Oct 2023   Prob (F-statistic):               0.00\n",
      "Time:                        04:04:57   Log-Likelihood:                -10035.\n",
      "No. Observations:                2040   AIC:                         2.008e+04\n",
      "Df Residuals:                    2037   BIC:                         2.009e+04\n",
      "Df Model:                           2                                         \n",
      "Covariance Type:            nonrobust                                         \n",
      "==============================================================================\n",
      "                 coef    std err          t      P>|t|      [0.025      0.975]\n",
      "------------------------------------------------------------------------------\n",
      "Intercept    -72.5788      3.770    -19.252      0.000     -79.972     -65.186\n",
      "totsp          2.5876      0.049     53.301      0.000       2.492       2.683\n",
      "walk          15.9815      1.581     10.107      0.000      12.880      19.083\n",
      "==============================================================================\n",
      "Omnibus:                     1386.251   Durbin-Watson:                   1.635\n",
      "Prob(Omnibus):                  0.000   Jarque-Bera (JB):            45584.979\n",
      "Skew:                           2.731   Prob(JB):                         0.00\n",
      "Kurtosis:                      25.505   Cond. No.                         386.\n",
      "==============================================================================\n",
      "\n",
      "Warnings:\n",
      "[1] Standard Errors assume that the covariance matrix of the errors is correctly specified.\n"
     ]
    }
   ],
   "source": [
    "mod03 = ols(\"price ~ totsp + walk\", flats).fit()\n",
    "print(mod03.summary())"
   ]
  },
  {
   "cell_type": "markdown",
   "metadata": {},
   "source": [
    "Допустим, нас интересует коэффициент при переменной `totsp`. Как получить его, пользуясь теоремой Фриша-Во-Ловелла? Вспомним идею регрессии остатков на остатки с лекции:\n",
    "\n",
    "**Шаг 0.** Есть множественная модель линейной регресии `y ~ x + z`. Все три переменные как-то связаны, чтобы оценить характер связи между `x` и `y`, нужно «очистить» эту связь от «примесей», возникающих из-за связи `z` и `y`.  \n",
    "\n",
    "**Шаг 1.** Строим модель `y ~ z` и забираем из нее остатки – ту часть, которая не объясняется `z`, а значит, это `y`, очищенный от влияния `z`.\n",
    "\n",
    "**Шаг 2.** Строим модель `x ~ z` и забираем из нее остатки – ту часть, которая не объясняется `z`, а значит, это `x`, очищенный от влияния `z`.\n",
    "\n",
    "**Шаг 3.** Строим модель `residuals 1 ~ residuals 2`, то есть остатки первой модели на остатки второй модели, что эквивалентно регрессии `y` на `x`, очищенных от влияния `z`, и что по смыслу вполне совпадает с интерпретацией коэффициентов через предельный эффект «при прочих равных условиях» (раз `z` мы считаем постоянным, а в этом и равенство условий, он никак не меняется и, следовательно, влияния никакого не оказывает).\n",
    "\n",
    "В нашем случае `y` – это `price`, `x` – это `totsp`, а `z` – это `walk`. Реализуем все описанные выше шаги. Построим две вспомогательные модели:"
   ]
  },
  {
   "cell_type": "code",
   "execution_count": 11,
   "metadata": {},
   "outputs": [],
   "source": [
    "# шаг 1: модель для очищения цены от влияния шаговой доступности\n",
    "aux01 = ols(\"price ~ walk\", flats).fit()"
   ]
  },
  {
   "cell_type": "code",
   "execution_count": 12,
   "metadata": {},
   "outputs": [],
   "source": [
    "# шаг 2: модель для очищения площади от влияния шаговой доступности\n",
    "aux02 = ols(\"totsp ~ walk\", flats).fit()"
   ]
  },
  {
   "cell_type": "markdown",
   "metadata": {},
   "source": [
    "Заберем из них остатки и сохраним в маленький датафрейм:"
   ]
  },
  {
   "cell_type": "code",
   "execution_count": 13,
   "metadata": {},
   "outputs": [],
   "source": [
    "new = pd.DataFrame()\n",
    "new[\"resid01\"] = aux01.resid\n",
    "new[\"resid02\"] = aux02.resid"
   ]
  },
  {
   "cell_type": "markdown",
   "metadata": {},
   "source": [
    "Построим итоговую модель и сравним с множественной моделью `mod03`, которая была раньше:"
   ]
  },
  {
   "cell_type": "code",
   "execution_count": 14,
   "metadata": {},
   "outputs": [
    {
     "name": "stdout",
     "output_type": "stream",
     "text": [
      "                            OLS Regression Results                            \n",
      "==============================================================================\n",
      "Dep. Variable:                resid01   R-squared:                       0.582\n",
      "Model:                            OLS   Adj. R-squared:                  0.582\n",
      "Method:                 Least Squares   F-statistic:                     2842.\n",
      "Date:                Fri, 13 Oct 2023   Prob (F-statistic):               0.00\n",
      "Time:                        04:05:04   Log-Likelihood:                -10035.\n",
      "No. Observations:                2040   AIC:                         2.007e+04\n",
      "Df Residuals:                    2038   BIC:                         2.009e+04\n",
      "Df Model:                           1                                         \n",
      "Covariance Type:            nonrobust                                         \n",
      "==============================================================================\n",
      "                 coef    std err          t      P>|t|      [0.025      0.975]\n",
      "------------------------------------------------------------------------------\n",
      "Intercept   4.041e-13      0.734   5.51e-13      1.000      -1.439       1.439\n",
      "resid02        2.5876      0.049     53.314      0.000       2.492       2.683\n",
      "==============================================================================\n",
      "Omnibus:                     1386.251   Durbin-Watson:                   1.635\n",
      "Prob(Omnibus):                  0.000   Jarque-Bera (JB):            45584.979\n",
      "Skew:                           2.731   Prob(JB):                         0.00\n",
      "Kurtosis:                      25.505   Cond. No.                         15.1\n",
      "==============================================================================\n",
      "\n",
      "Warnings:\n",
      "[1] Standard Errors assume that the covariance matrix of the errors is correctly specified.\n"
     ]
    }
   ],
   "source": [
    "mod_fin = ols(\"resid01 ~ resid02\", new).fit()\n",
    "print(mod_fin.summary())"
   ]
  },
  {
   "cell_type": "markdown",
   "metadata": {},
   "source": [
    "Так и есть! Коэффициент в итоговой модели при `resid02` в точности совпадает с коэффициентом при `totsp` в множественной модели, которая была ранее."
   ]
  }
 ],
 "metadata": {
  "kernelspec": {
   "display_name": "Python 3",
   "language": "python",
   "name": "python3"
  },
  "language_info": {
   "codemirror_mode": {
    "name": "ipython",
    "version": 3
   },
   "file_extension": ".py",
   "mimetype": "text/x-python",
   "name": "python",
   "nbconvert_exporter": "python",
   "pygments_lexer": "ipython3",
   "version": "3.7.4"
  }
 },
 "nbformat": 4,
 "nbformat_minor": 2
}
