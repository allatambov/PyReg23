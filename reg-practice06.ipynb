{
 "cells": [
  {
   "cell_type": "markdown",
   "metadata": {},
   "source": [
    "# Введение в регрессионный анализ\n",
    "\n",
    "## Практикум 6. Линейные модели с эффектами взаимодействия, выгрузка результатов регрессионного анализа\n",
    "\n",
    "*Алла Тамбовцева*"
   ]
  },
  {
   "cell_type": "markdown",
   "metadata": {},
   "source": [
    "### Подготовка к работе: импорт необходимых библиотек"
   ]
  },
  {
   "cell_type": "markdown",
   "metadata": {},
   "source": [
    "Импортируем библиотеку `pandas` для загрузки и обработки данных и функцию `ols()` из `statsmodels` для построения линейных моделей."
   ]
  },
  {
   "cell_type": "code",
   "execution_count": 2,
   "metadata": {},
   "outputs": [],
   "source": [
    "import pandas as pd\n",
    "from statsmodels.formula.api import ols"
   ]
  },
  {
   "cell_type": "markdown",
   "metadata": {},
   "source": [
    "### Сюжет 1: модель с эффектом взаимодействия"
   ]
  },
  {
   "cell_type": "markdown",
   "metadata": {},
   "source": [
    "Давайте построим модель с эффектом взаимодействия из статьи **How Do Politicians Bargain? Evidence from Ultimatum Games with Legislators in Five Countries**, которая обсуждалась на лекции. В статье анализируются результаты игры «Ультиматум», которая состоит в следующем (по крайней мере, ее основная часть сводится к этому):\n",
    "\n",
    "* Политикам из разных стран (Бельгия, Канада, Чехия, Германия, США) дают 1000$, какую-то часть этой суммы они могут предложить другому участнику.\n",
    "* Другой участник может принять предлагаемые деньги или часть суммы. \n",
    "* При этом другой участник может быть политиком или избирателем, однопартийцем предлагающего деньги или представителем другой партии.\n",
    "\n",
    "Интересно посмотреть, насколько отличаются стратегии поведения политиков по отношению к политикам и избирателям, однопартийцам и представителям других партий, то есть, другими словами, какой категории (политики-однопартийцы, избиратели-однопартийцы, политики из других партий/избиратели из других партий) политики готовы отдавать большие суммы. \n",
    "\n",
    "Загрузим данные с результатами игры из CSV-файла:"
   ]
  },
  {
   "cell_type": "code",
   "execution_count": 3,
   "metadata": {},
   "outputs": [
    {
     "data": {
      "text/html": [
       "<div>\n",
       "<style scoped>\n",
       "    .dataframe tbody tr th:only-of-type {\n",
       "        vertical-align: middle;\n",
       "    }\n",
       "\n",
       "    .dataframe tbody tr th {\n",
       "        vertical-align: top;\n",
       "    }\n",
       "\n",
       "    .dataframe thead th {\n",
       "        text-align: right;\n",
       "    }\n",
       "</style>\n",
       "<table border=\"1\" class=\"dataframe\">\n",
       "  <thead>\n",
       "    <tr style=\"text-align: right;\">\n",
       "      <th></th>\n",
       "      <th>Unnamed: 0</th>\n",
       "      <th>V3</th>\n",
       "      <th>ug_propose</th>\n",
       "      <th>ug_accept</th>\n",
       "      <th>ug_p2_copartisan</th>\n",
       "      <th>ug_p2_copartisan_labelled</th>\n",
       "      <th>ug_p2_politician</th>\n",
       "      <th>ug_p2_politician_labelled</th>\n",
       "      <th>ug_propose_first</th>\n",
       "      <th>pol</th>\n",
       "      <th>country</th>\n",
       "      <th>country_name</th>\n",
       "      <th>sex</th>\n",
       "      <th>age_cat</th>\n",
       "      <th>gov_exp</th>\n",
       "      <th>tenure</th>\n",
       "    </tr>\n",
       "  </thead>\n",
       "  <tbody>\n",
       "    <tr>\n",
       "      <th>0</th>\n",
       "      <td>1</td>\n",
       "      <td>VL1000</td>\n",
       "      <td>NaN</td>\n",
       "      <td>NaN</td>\n",
       "      <td>NaN</td>\n",
       "      <td>NaN</td>\n",
       "      <td>NaN</td>\n",
       "      <td>NaN</td>\n",
       "      <td>NaN</td>\n",
       "      <td>1</td>\n",
       "      <td>BE</td>\n",
       "      <td>Belgium</td>\n",
       "      <td>1.0</td>\n",
       "      <td>41-50</td>\n",
       "      <td>NaN</td>\n",
       "      <td>12.0</td>\n",
       "    </tr>\n",
       "    <tr>\n",
       "      <th>1</th>\n",
       "      <td>2</td>\n",
       "      <td>VL1002</td>\n",
       "      <td>500.0</td>\n",
       "      <td>500.0</td>\n",
       "      <td>1.0</td>\n",
       "      <td>Co-Partisan</td>\n",
       "      <td>1.0</td>\n",
       "      <td>Politician</td>\n",
       "      <td>0.0</td>\n",
       "      <td>1</td>\n",
       "      <td>BE</td>\n",
       "      <td>Belgium</td>\n",
       "      <td>0.0</td>\n",
       "      <td>21-40</td>\n",
       "      <td>NaN</td>\n",
       "      <td>5.0</td>\n",
       "    </tr>\n",
       "    <tr>\n",
       "      <th>2</th>\n",
       "      <td>3</td>\n",
       "      <td>VL1010</td>\n",
       "      <td>500.0</td>\n",
       "      <td>450.0</td>\n",
       "      <td>1.0</td>\n",
       "      <td>Co-Partisan</td>\n",
       "      <td>0.0</td>\n",
       "      <td>Non-Politician</td>\n",
       "      <td>0.0</td>\n",
       "      <td>1</td>\n",
       "      <td>BE</td>\n",
       "      <td>Belgium</td>\n",
       "      <td>1.0</td>\n",
       "      <td>61-70</td>\n",
       "      <td>NaN</td>\n",
       "      <td>24.0</td>\n",
       "    </tr>\n",
       "    <tr>\n",
       "      <th>3</th>\n",
       "      <td>4</td>\n",
       "      <td>VL1012</td>\n",
       "      <td>NaN</td>\n",
       "      <td>NaN</td>\n",
       "      <td>NaN</td>\n",
       "      <td>NaN</td>\n",
       "      <td>NaN</td>\n",
       "      <td>NaN</td>\n",
       "      <td>NaN</td>\n",
       "      <td>1</td>\n",
       "      <td>BE</td>\n",
       "      <td>Belgium</td>\n",
       "      <td>0.0</td>\n",
       "      <td>41-50</td>\n",
       "      <td>NaN</td>\n",
       "      <td>12.0</td>\n",
       "    </tr>\n",
       "    <tr>\n",
       "      <th>4</th>\n",
       "      <td>5</td>\n",
       "      <td>VL1013</td>\n",
       "      <td>500.0</td>\n",
       "      <td>300.0</td>\n",
       "      <td>1.0</td>\n",
       "      <td>Co-Partisan</td>\n",
       "      <td>0.0</td>\n",
       "      <td>Non-Politician</td>\n",
       "      <td>0.0</td>\n",
       "      <td>1</td>\n",
       "      <td>BE</td>\n",
       "      <td>Belgium</td>\n",
       "      <td>1.0</td>\n",
       "      <td>51-60</td>\n",
       "      <td>NaN</td>\n",
       "      <td>5.0</td>\n",
       "    </tr>\n",
       "  </tbody>\n",
       "</table>\n",
       "</div>"
      ],
      "text/plain": [
       "   Unnamed: 0      V3  ug_propose  ug_accept  ug_p2_copartisan  \\\n",
       "0           1  VL1000         NaN        NaN               NaN   \n",
       "1           2  VL1002       500.0      500.0               1.0   \n",
       "2           3  VL1010       500.0      450.0               1.0   \n",
       "3           4  VL1012         NaN        NaN               NaN   \n",
       "4           5  VL1013       500.0      300.0               1.0   \n",
       "\n",
       "  ug_p2_copartisan_labelled  ug_p2_politician ug_p2_politician_labelled  \\\n",
       "0                       NaN               NaN                       NaN   \n",
       "1               Co-Partisan               1.0                Politician   \n",
       "2               Co-Partisan               0.0            Non-Politician   \n",
       "3                       NaN               NaN                       NaN   \n",
       "4               Co-Partisan               0.0            Non-Politician   \n",
       "\n",
       "   ug_propose_first  pol country country_name  sex age_cat  gov_exp  tenure  \n",
       "0               NaN    1      BE      Belgium  1.0   41-50      NaN    12.0  \n",
       "1               0.0    1      BE      Belgium  0.0   21-40      NaN     5.0  \n",
       "2               0.0    1      BE      Belgium  1.0   61-70      NaN    24.0  \n",
       "3               NaN    1      BE      Belgium  0.0   41-50      NaN    12.0  \n",
       "4               0.0    1      BE      Belgium  1.0   51-60      NaN     5.0  "
      ]
     },
     "execution_count": 3,
     "metadata": {},
     "output_type": "execute_result"
    }
   ],
   "source": [
    "ug = pd.read_csv(\"ug_replication_data.csv\")\n",
    "ug.head()"
   ]
  },
  {
   "cell_type": "markdown",
   "metadata": {},
   "source": [
    "Ключевые переменные:\n",
    "    \n",
    "* `ug_propose`: сумма, которую участник готов предложить;\n",
    "* `ug_accept`: сумма, которую другой участник готов принять;\n",
    "* `ug_p2_copartisan`: предлагает ли участник деньги однопартийцу или нет (1 или 0);\n",
    "* `ug_p2_politician`: предлагает ли участник деньги политику или избирателю (1 или 0);\n",
    "* `ug_propose_first`: предлагает ли участник деньги первым;\n",
    "* `pol`: участник-политик или нет (здесь все 1, отобраны все политики);\n",
    "* `country`: страна, из которой участник игры."
   ]
  },
  {
   "cell_type": "markdown",
   "metadata": {},
   "source": [
    "В коде для репликации результатов статьи есть этап отбора наблюдений, чтобы гарантировать, что мы отобрали только участников-политиков, повторим этот этап (хотя, как можно убедиться, в файле у нас уже только политики):"
   ]
  },
  {
   "cell_type": "code",
   "execution_count": 4,
   "metadata": {},
   "outputs": [],
   "source": [
    "# лишняя осторожность не помешает\n",
    "\n",
    "ug_filt = ug[ug[\"pol\"] == 1]"
   ]
  },
  {
   "cell_type": "markdown",
   "metadata": {},
   "source": [
    "Прежде чем переходить к модели с эффектом взаимодействия, давайте посмотрим на более простую модель, которая описывает, как величина предлагаемой суммы зависит от того, предлагает ли участник деньги политику или избирателю, однопартийцу или представителю другой партии. Учтем также, что на предлагаемую сумму также может влиять принадлежность к определенной стране (политики из разных стран, в среднем, предлагают разные суммы) и то, предлагает ли политик деньги первым или нет:"
   ]
  },
  {
   "cell_type": "code",
   "execution_count": 5,
   "metadata": {},
   "outputs": [],
   "source": [
    "mod00 = ols(\"ug_propose ~ ug_propose_first + country + ug_p2_politician + ug_p2_copartisan\", \n",
    "            ug_filt).fit()"
   ]
  },
  {
   "cell_type": "code",
   "execution_count": 6,
   "metadata": {},
   "outputs": [
    {
     "name": "stdout",
     "output_type": "stream",
     "text": [
      "                            OLS Regression Results                            \n",
      "==============================================================================\n",
      "Dep. Variable:             ug_propose   R-squared:                       0.077\n",
      "Model:                            OLS   Adj. R-squared:                  0.069\n",
      "Method:                 Least Squares   F-statistic:                     9.700\n",
      "Date:                Mon, 16 Oct 2023   Prob (F-statistic):           1.23e-11\n",
      "Time:                        20:08:25   Log-Likelihood:                -5745.2\n",
      "No. Observations:                 827   AIC:                         1.151e+04\n",
      "Df Residuals:                     819   BIC:                         1.154e+04\n",
      "Df Model:                           7                                         \n",
      "Covariance Type:            nonrobust                                         \n",
      "====================================================================================\n",
      "                       coef    std err          t      P>|t|      [0.025      0.975]\n",
      "------------------------------------------------------------------------------------\n",
      "Intercept          548.2171     22.373     24.503      0.000     504.301     592.133\n",
      "country[T.CA]       14.2879     33.193      0.430      0.667     -50.866      79.441\n",
      "country[T.CH]      -64.7314     30.756     -2.105      0.036    -125.101      -4.362\n",
      "country[T.DE]       -1.1173     33.787     -0.033      0.974     -67.437      65.202\n",
      "country[T.US]        3.7425     21.417      0.175      0.861     -38.296      45.781\n",
      "ug_propose_first     0.7405     17.709      0.042      0.967     -34.020      35.501\n",
      "ug_p2_politician  -110.6047     17.697     -6.250      0.000    -145.341     -75.868\n",
      "ug_p2_copartisan    84.9764     17.613      4.825      0.000      50.404     119.548\n",
      "==============================================================================\n",
      "Omnibus:                        5.396   Durbin-Watson:                   1.998\n",
      "Prob(Omnibus):                  0.067   Jarque-Bera (JB):                6.703\n",
      "Skew:                          -0.049   Prob(JB):                       0.0350\n",
      "Kurtosis:                       3.430   Cond. No.                         7.33\n",
      "==============================================================================\n",
      "\n",
      "Warnings:\n",
      "[1] Standard Errors assume that the covariance matrix of the errors is correctly specified.\n"
     ]
    }
   ],
   "source": [
    "print(mod00.summary())"
   ]
  },
  {
   "cell_type": "markdown",
   "metadata": {},
   "source": [
    "Проинтерпретируем полученные результаты.\n",
    "\n",
    "* `Intercept`: 548 – это среднее ожидаемое значение зависимой переменной в случае, когда все независимые равны 0. Что это содержательно означает? В среднем, 548 долларов другим участникам готовы предлагать политики из Бельгии (базовая категория, в выдаче пропущена, `CA`, `CH`, `DE` и `US` равны 0), которые не предлагают деньги первыми (`ug_propose_first` равно 0), которые при этом предлагают деньги избирателям (`ug_p2_politician` равно 0) из других партий (`ug_p2_copartisan` равно 0).\n",
    "\n",
    "* Коэффициенты при `country[T.CA]`–`country[T.US]` показывают различия в средних значениях зависимой переменной между выбранной категорией и базовой. То есть насколько отличаются, при прочих равных условиях, в среднем, суммы, предлагаемые политиками из Канады/Чехии/Германии/США по сравнению с политиками из Бельгии. На 5%-ном уровне значимости отличным от 0 можно считать только оценку коэффициента при Чехии (p-value меньше 0.05, 95%-ный доверительный интервал включает 0), политики из Чехии, в среднем, предлагают на 64-65 долларов меньше, чем политики из Бельгии. \n",
    "\n",
    "* Коэффициент при `ug_p2_politician`: оценка значима на любом из конвенциональных уровней значимости, это разница в средних значениях зависимой переменной в случае, когда `ug_p2_politician` равно 0 и 1. То есть, при прочих равных условиях, в среднем, другим политикам политики готовы предлагать на 110-111 долларов меньше, чем избирателям.\n",
    "\n",
    "* Коэффициент при `ug_p2_copartisan`: оценка значима на любом из конвенциональных уровней значимости, это разница в средних значениях зависимой переменной в случае, когда `ug_p2_copartisan` равно 0 и 1. То есть, при прочих равных условиях, в среднем, однопартийцам политики готовы предлагать на 84-85 долларов больше.\n",
    "\n",
    "Важное замечание: $R^2$ у модели довольно низкий, модель объясняет примерно 8% дисперсии зависимой переменной. Но это не означает, что модель плохая. Независимые переменные в модели все бинарные, их изменчивость сама по себе небольшая (всего два значения 0 и 1), поэтому их включение и не должно сильно увеличивать коэффициент детерминации. К тому же, наша задача здесь – не построить идеальную модель с максимально возможной прогностической силой, наша задача – посмотреть на коэффициенты при определенных переменных, чтобы сделать выводы о стратегиях участников, поэтому важен не $R^2$ как формальный показатель, а сама спецификация модели, ее сравнение с другими аналогичными моделями.\n",
    "\n",
    "\n",
    "Теперь добавим в модель эффект взаимодействия переменных `ug_p2_copartisan` и `ug_p2_politician` в предположении, что на величину предлагаемой суммы влияет не столько принадлежность к партии и принадлежность к группе избирателей по отдельности, сколько их совместный эффект. Другими словами, от двух независимых сравнений *избиратель-политик* и *однопартиец-представитель другой партии* мы переходим к более интересному сравнению четырех групп: избиратели-однопартийцы, избиратели из других партий, политики-однопартийцы, политики из других партий. \n",
    "\n",
    "В Python в формуле внутри `ols()` эффект взаимодействия можно добавить по-разному. Первый способ – указать переменные, чье взаимодействие мы учитываем, через `:`:"
   ]
  },
  {
   "cell_type": "code",
   "execution_count": 7,
   "metadata": {},
   "outputs": [
    {
     "name": "stdout",
     "output_type": "stream",
     "text": [
      "                            OLS Regression Results                            \n",
      "==============================================================================\n",
      "Dep. Variable:             ug_propose   R-squared:                       0.080\n",
      "Model:                            OLS   Adj. R-squared:                  0.071\n",
      "Method:                 Least Squares   F-statistic:                     8.881\n",
      "Date:                Mon, 16 Oct 2023   Prob (F-statistic):           1.03e-11\n",
      "Time:                        20:09:38   Log-Likelihood:                -5743.7\n",
      "No. Observations:                 827   AIC:                         1.151e+04\n",
      "Df Residuals:                     818   BIC:                         1.155e+04\n",
      "Df Model:                           8                                         \n",
      "Covariance Type:            nonrobust                                         \n",
      "=====================================================================================================\n",
      "                                        coef    std err          t      P>|t|      [0.025      0.975]\n",
      "-----------------------------------------------------------------------------------------------------\n",
      "Intercept                           530.6599     24.551     21.615      0.000     482.470     578.849\n",
      "country[T.CA]                        15.0786     33.156      0.455      0.649     -50.002      80.160\n",
      "country[T.CH]                       -64.3235     30.720     -2.094      0.037    -124.622      -4.025\n",
      "country[T.DE]                         4.0712     33.880      0.120      0.904     -62.430      70.573\n",
      "country[T.US]                         3.1731     21.393      0.148      0.882     -38.819      45.165\n",
      "ug_propose_first                      2.0077     17.703      0.113      0.910     -32.740      36.756\n",
      "ug_p2_politician                    -79.7465     25.134     -3.173      0.002    -129.082     -30.411\n",
      "ug_p2_copartisan                    117.3736     25.718      4.564      0.000      66.892     167.855\n",
      "ug_p2_politician:ug_p2_copartisan   -61.1636     35.419     -1.727      0.085    -130.686       8.359\n",
      "==============================================================================\n",
      "Omnibus:                        6.267   Durbin-Watson:                   1.999\n",
      "Prob(Omnibus):                  0.044   Jarque-Bera (JB):                8.036\n",
      "Skew:                          -0.058   Prob(JB):                       0.0180\n",
      "Kurtosis:                       3.469   Cond. No.                         8.29\n",
      "==============================================================================\n",
      "\n",
      "Warnings:\n",
      "[1] Standard Errors assume that the covariance matrix of the errors is correctly specified.\n"
     ]
    }
   ],
   "source": [
    "# +\\ – добавила слэш для разбиения уравнения по строкам\n",
    "# в одну строчку длинно и некрасиво\n",
    "\n",
    "mod01 = ols(\"ug_propose ~ ug_propose_first + country + ug_p2_politician + \\\n",
    "            ug_p2_copartisan + ug_p2_politician : ug_p2_copartisan\", \n",
    "            ug_filt).fit()\n",
    "print(mod01.summary())"
   ]
  },
  {
   "cell_type": "markdown",
   "metadata": {},
   "source": [
    "При первом способе важно не потерять переменные, которые входят во взаимодействие, и включить их в модель по отдельности (обратите внимание, сами переменные `ug_p2_politician` и `ug_p2_copartisan` в уравнении присутствуют). Иначе модель с эффектом взаимодействия теряет смысл. \n",
    "\n",
    "Второй способ – указать переменные взаимодействия через `*`:"
   ]
  },
  {
   "cell_type": "code",
   "execution_count": 8,
   "metadata": {},
   "outputs": [
    {
     "name": "stdout",
     "output_type": "stream",
     "text": [
      "                            OLS Regression Results                            \n",
      "==============================================================================\n",
      "Dep. Variable:             ug_propose   R-squared:                       0.080\n",
      "Model:                            OLS   Adj. R-squared:                  0.071\n",
      "Method:                 Least Squares   F-statistic:                     8.881\n",
      "Date:                Mon, 16 Oct 2023   Prob (F-statistic):           1.03e-11\n",
      "Time:                        20:09:43   Log-Likelihood:                -5743.7\n",
      "No. Observations:                 827   AIC:                         1.151e+04\n",
      "Df Residuals:                     818   BIC:                         1.155e+04\n",
      "Df Model:                           8                                         \n",
      "Covariance Type:            nonrobust                                         \n",
      "=====================================================================================================\n",
      "                                        coef    std err          t      P>|t|      [0.025      0.975]\n",
      "-----------------------------------------------------------------------------------------------------\n",
      "Intercept                           530.6599     24.551     21.615      0.000     482.470     578.849\n",
      "country[T.CA]                        15.0786     33.156      0.455      0.649     -50.002      80.160\n",
      "country[T.CH]                       -64.3235     30.720     -2.094      0.037    -124.622      -4.025\n",
      "country[T.DE]                         4.0712     33.880      0.120      0.904     -62.430      70.573\n",
      "country[T.US]                         3.1731     21.393      0.148      0.882     -38.819      45.165\n",
      "ug_propose_first                      2.0077     17.703      0.113      0.910     -32.740      36.756\n",
      "ug_p2_politician                    -79.7465     25.134     -3.173      0.002    -129.082     -30.411\n",
      "ug_p2_copartisan                    117.3736     25.718      4.564      0.000      66.892     167.855\n",
      "ug_p2_politician:ug_p2_copartisan   -61.1636     35.419     -1.727      0.085    -130.686       8.359\n",
      "==============================================================================\n",
      "Omnibus:                        6.267   Durbin-Watson:                   1.999\n",
      "Prob(Omnibus):                  0.044   Jarque-Bera (JB):                8.036\n",
      "Skew:                          -0.058   Prob(JB):                       0.0180\n",
      "Kurtosis:                       3.469   Cond. No.                         8.29\n",
      "==============================================================================\n",
      "\n",
      "Warnings:\n",
      "[1] Standard Errors assume that the covariance matrix of the errors is correctly specified.\n"
     ]
    }
   ],
   "source": [
    "mod01 = ols(\"ug_propose ~ ug_propose_first + country + ug_p2_politician * ug_p2_copartisan\", \n",
    "    ug_filt).fit()\n",
    "print(mod01.summary())"
   ]
  },
  {
   "cell_type": "markdown",
   "metadata": {},
   "source": [
    "При таком способе определения модели Python сам добавит `ug_p2_politician` и `ug_p2_copartisan` по-отдельности. Идея такая: `y ~ x + z + x:z` и `y ~ x * z` – это эквивалентные способы задать уравнение модели с эффектом взаимодействия `x` и `z`, которые на выходе дадут модель вида `y ~ x + z + x * z`.\n",
    "\n",
    "Перейдем к интерпретации.\n",
    "\n",
    "Оценку коэффициента при взаимодействии `ug_p2_politician:ug_p2_copartisan` можно считать значимой на 10%-ном уровне значимости. Получается, действительно, эти переменные оказывают совместный эффект на зависимую переменную. \n",
    "\n",
    "Давайте запишем в сокращенном виде уравнение модели (нас интересуют коэффициенты только при последних трех переменных в выдаче) и сравним стратегии политиков.\n",
    "\n",
    "$$\n",
    "\\widehat{\\text{ug_propose}_i} = 530 + \\dots - 79 \\times \\text{politician}_i + 117 \\times \\text{copartisan}_i - 61 \\times \\text{politician}_i \\times \\text{copartisan}_i\n",
    "$$\n",
    "\n",
    "Рассмотрим четыре случая.\n",
    "\n",
    "**Случай 1.**  `politician = 0` и `copartisan = 0`, политик предлагает деньги избирателю из другой партии; политик предлагает какую-то сумму, если это политик из Бельгии, который не предлагает деньги первым (`ug_propose_first` равен 0), то, в среднем, от него можно ожидать 530 долларов.\n",
    "\n",
    "**Случай 2.** `politician = 0` и `copartisan = 1` политик предлагает деньги избирателю из той же партии; политик, в среднем, предлагает сумму на 117 долларов выше, чем в предыдущем случае, когда получатель – избиратель из другой партии (подставьте 0 и 1 в уравнение).\n",
    "\n",
    "**Случай 3.** `politician = 1` и `copartisan = 0` политик предлагает деньги политику из другой партии; политик, в среднем, предлагает сумму на 79 долларов ниже, чем в случае, когда получатель – избиратель из другой партии (подставьте 1 и 0 в уравнение).\n",
    "\n",
    "**Случай 4.** `politician = 1` и `copartisan = 1` политик предлагает деньги политику из своей партии; политик, в среднем, предлагает сумму на 23 доллара ниже, чем в случае, когда получатель – избиратель из другой партии (подставьте 1 и 1 в уравнение, получите `-79 + 117 - 61`).\n",
    "\n",
    "В целом, получается, что политики склонны предлагать большие суммы избирателям (даже если они из другой партии), чем политикам (даже если они из той же партии).\n",
    "\n",
    "Вычислим предельные эффекты `politician` и `copartisan` по отдельности.\n",
    "\n",
    "Предельный эффект `politician` на `ug_propose`:\n",
    "\n",
    "$$\n",
    "\\text{marginal effect} = - 79 - 61 \\times \\text{copartisan}_i.\n",
    "$$\n",
    "\n",
    "Если будем подставлять вместо `copartisan` 0 или 1, мы получим, что величина предельного эффекта `politician` на `ug_propose` равна $-$79 в случае, если деньги предлагаются представителю другой партии, и $-79-61 = -140$ в случае, если деньги предлагаются однопартийцу. \n",
    "\n",
    "Что такое предельный эффект `politician` на `ug_propose`? При прочих равных условиях, это разница в средних значениях `ug_propose` в случаях, если `politician = 0` и `politician = 1`. Итого, получаем, что разница в средних суммах, которые участники готовы отдавать политикам и избирателям, зависит от принадлежности последних к партии. Если деньги предлагаются представителям своей партии, эта разница меньше на 61 доллар.\n",
    "\n",
    "Предельный эффект `copartisan` на `ug_propose`:\n",
    "\n",
    "$$\n",
    "\\text{marginal effect} = 117 - 61 \\times \\text{politician}_i.\n",
    "$$\n",
    "\n",
    "Если будем подставлять вместо `politician` 0 или 1, мы получим, что величина предельного эффекта `copartisan` на `ug_propose` равна 117 в случае, если деньги предлагаются избирателю, и $117-61 = 56$ в случае, если деньги предлагаются политику. \n",
    "\n",
    "Что такое предельный эффект `copartisan` на `ug_propose`? При прочих равных условиях, это разница в средних значениях `ug_propose` в случаях, если `copartisan = 0` и `copartisan = 1`. Итого, получаем, что разница в средних суммах, которые участники готовы отдавать однопартийцам и не-однопартийцам, зависит от того, являются ли последние политиками или избирателями. Если деньги предлагаются политикам, эта разница больше на 56 долларов."
   ]
  },
  {
   "cell_type": "markdown",
   "metadata": {},
   "source": [
    "### Сюжет 2: выгрузка результатов в HTML и LaTeX"
   ]
  },
  {
   "cell_type": "markdown",
   "metadata": {},
   "source": [
    "Установим библиотеку `stargazer` для экспорта результатов регрессионного анализа в красивом табличном виде (от *star* – «звезда» и *gaze* – «глазеть», так как в выдачах присутствуют звездочки для отметки значимости):"
   ]
  },
  {
   "cell_type": "code",
   "execution_count": null,
   "metadata": {},
   "outputs": [],
   "source": [
    "!pip install stargazer"
   ]
  },
  {
   "cell_type": "markdown",
   "metadata": {},
   "source": [
    "Импортируем класс `Stargazer`:"
   ]
  },
  {
   "cell_type": "code",
   "execution_count": 9,
   "metadata": {},
   "outputs": [],
   "source": [
    "from stargazer.stargazer import Stargazer"
   ]
  },
  {
   "cell_type": "markdown",
   "metadata": {},
   "source": [
    "С помощью этого класса мы можем подготовить выдачу в табличном виде, поместив необходимые модели внутрь `Stargazer()` в виде списка:"
   ]
  },
  {
   "cell_type": "code",
   "execution_count": 10,
   "metadata": {},
   "outputs": [],
   "source": [
    "stargazer = Stargazer([mod00, mod01])"
   ]
  },
  {
   "cell_type": "markdown",
   "metadata": {},
   "source": [
    "Посмотрим, что получилось:"
   ]
  },
  {
   "cell_type": "code",
   "execution_count": 11,
   "metadata": {},
   "outputs": [
    {
     "data": {
      "text/html": [
       "<table style=\"text-align:center\"><tr><td colspan=\"3\" style=\"border-bottom: 1px solid black\"></td></tr>\n",
       "<tr><td style=\"text-align:left\"></td><td colspan=\"2\"><em>Dependent variable: ug_propose</em></td></tr><tr><td style=\"text-align:left\"></td><tr><td style=\"text-align:left\"></td><td>(1)</td><td>(2)</td></tr>\n",
       "<tr><td colspan=\"3\" style=\"border-bottom: 1px solid black\"></td></tr>\n",
       "\n",
       "<tr><td style=\"text-align:left\">Intercept</td><td>548.217<sup>***</sup></td><td>530.660<sup>***</sup></td></tr>\n",
       "<tr><td style=\"text-align:left\"></td><td>(22.373)</td><td>(24.551)</td></tr>\n",
       "<tr><td style=\"text-align:left\">country[T.CA]</td><td>14.288<sup></sup></td><td>15.079<sup></sup></td></tr>\n",
       "<tr><td style=\"text-align:left\"></td><td>(33.193)</td><td>(33.156)</td></tr>\n",
       "<tr><td style=\"text-align:left\">country[T.CH]</td><td>-64.731<sup>**</sup></td><td>-64.323<sup>**</sup></td></tr>\n",
       "<tr><td style=\"text-align:left\"></td><td>(30.756)</td><td>(30.720)</td></tr>\n",
       "<tr><td style=\"text-align:left\">country[T.DE]</td><td>-1.117<sup></sup></td><td>4.071<sup></sup></td></tr>\n",
       "<tr><td style=\"text-align:left\"></td><td>(33.787)</td><td>(33.880)</td></tr>\n",
       "<tr><td style=\"text-align:left\">country[T.US]</td><td>3.742<sup></sup></td><td>3.173<sup></sup></td></tr>\n",
       "<tr><td style=\"text-align:left\"></td><td>(21.417)</td><td>(21.393)</td></tr>\n",
       "<tr><td style=\"text-align:left\">ug_p2_copartisan</td><td>84.976<sup>***</sup></td><td>117.374<sup>***</sup></td></tr>\n",
       "<tr><td style=\"text-align:left\"></td><td>(17.613)</td><td>(25.718)</td></tr>\n",
       "<tr><td style=\"text-align:left\">ug_p2_politician</td><td>-110.605<sup>***</sup></td><td>-79.746<sup>***</sup></td></tr>\n",
       "<tr><td style=\"text-align:left\"></td><td>(17.697)</td><td>(25.134)</td></tr>\n",
       "<tr><td style=\"text-align:left\">ug_p2_politician:ug_p2_copartisan</td><td></td><td>-61.164<sup>*</sup></td></tr>\n",
       "<tr><td style=\"text-align:left\"></td><td></td><td>(35.419)</td></tr>\n",
       "<tr><td style=\"text-align:left\">ug_propose_first</td><td>0.741<sup></sup></td><td>2.008<sup></sup></td></tr>\n",
       "<tr><td style=\"text-align:left\"></td><td>(17.709)</td><td>(17.703)</td></tr>\n",
       "\n",
       "<td colspan=\"3\" style=\"border-bottom: 1px solid black\"></td></tr>\n",
       "<tr><td style=\"text-align: left\">Observations</td><td>827</td><td>827</td></tr><tr><td style=\"text-align: left\">R<sup>2</sup></td><td>0.077</td><td>0.080</td></tr><tr><td style=\"text-align: left\">Adjusted R<sup>2</sup></td><td>0.069</td><td>0.071</td></tr><tr><td style=\"text-align: left\">Residual Std. Error</td><td>252.898 (df=819)</td><td>252.592 (df=818)</td></tr><tr><td style=\"text-align: left\">F Statistic</td><td>9.700<sup>***</sup> (df=7; 819)</td><td>8.881<sup>***</sup> (df=8; 818)</td></tr>\n",
       "<tr><td colspan=\"3\" style=\"border-bottom: 1px solid black\"></td></tr><tr><td style=\"text-align: left\">Note:</td><td colspan=\"2\" style=\"text-align: right\"><sup>*</sup>p&lt;0.1; <sup>**</sup>p&lt;0.05; <sup>***</sup>p&lt;0.01</td></tr></table>"
      ],
      "text/plain": [
       "<stargazer.stargazer.Stargazer at 0x104592590>"
      ]
     },
     "execution_count": 11,
     "metadata": {},
     "output_type": "execute_result"
    }
   ],
   "source": [
    "stargazer"
   ]
  },
  {
   "cell_type": "markdown",
   "metadata": {},
   "source": [
    "Красивая выдача, каждая модель в отдельном столбце, как обычно и бывает в статьях. Как ее выгрузить? Если вы работаете в LaTeX, все просто, метод `.render_latex()` вернет код LaTeX для таблицы, который можно сводобно скопировать:"
   ]
  },
  {
   "cell_type": "code",
   "execution_count": 12,
   "metadata": {},
   "outputs": [
    {
     "name": "stdout",
     "output_type": "stream",
     "text": [
      "\\begin{table}[!htbp] \\centering\n",
      "\\begin{tabular}{@{\\extracolsep{5pt}}lcc}\n",
      "\\\\[-1.8ex]\\hline\n",
      "\\hline \\\\[-1.8ex]\n",
      "& \\multicolumn{2}{c}{\\textit{Dependent variable: ug_propose}} \\\n",
      "\\cr \\cline{2-3}\n",
      "\\\\[-1.8ex] & (1) & (2) \\\\\n",
      "\\hline \\\\[-1.8ex]\n",
      " Intercept & 548.217$^{***}$ & 530.660$^{***}$ \\\\\n",
      "& (22.373) & (24.551) \\\\\n",
      " country[T.CA] & 14.288$^{}$ & 15.079$^{}$ \\\\\n",
      "& (33.193) & (33.156) \\\\\n",
      " country[T.CH] & -64.731$^{**}$ & -64.323$^{**}$ \\\\\n",
      "& (30.756) & (30.720) \\\\\n",
      " country[T.DE] & -1.117$^{}$ & 4.071$^{}$ \\\\\n",
      "& (33.787) & (33.880) \\\\\n",
      " country[T.US] & 3.742$^{}$ & 3.173$^{}$ \\\\\n",
      "& (21.417) & (21.393) \\\\\n",
      " ug_p2_copartisan & 84.976$^{***}$ & 117.374$^{***}$ \\\\\n",
      "& (17.613) & (25.718) \\\\\n",
      " ug_p2_politician & -110.605$^{***}$ & -79.746$^{***}$ \\\\\n",
      "& (17.697) & (25.134) \\\\\n",
      " ug_p2_politician:ug_p2_copartisan & & -61.164$^{*}$ \\\\\n",
      "& & (35.419) \\\\\n",
      " ug_propose_first & 0.741$^{}$ & 2.008$^{}$ \\\\\n",
      "& (17.709) & (17.703) \\\\\n",
      "\\hline \\\\[-1.8ex]\n",
      " Observations & 827 & 827 \\\\\n",
      " $R^2$ & 0.077 & 0.080 \\\\\n",
      " Adjusted $R^2$ & 0.069 & 0.071 \\\\\n",
      " Residual Std. Error & 252.898 (df=819) & 252.592 (df=818) \\\\\n",
      " F Statistic & 9.700$^{***}$ (df=7; 819) & 8.881$^{***}$ (df=8; 818) \\\\\n",
      "\\hline\n",
      "\\hline \\\\[-1.8ex]\n",
      "\\textit{Note:} & \\multicolumn{2}{r}{$^{*}$p$<$0.1; $^{**}$p$<$0.05; $^{***}$p$<$0.01} \\\\\n",
      "\\end{tabular}\n",
      "\\end{table}\n"
     ]
    }
   ],
   "source": [
    "print(stargazer.render_latex())"
   ]
  },
  {
   "cell_type": "markdown",
   "metadata": {},
   "source": [
    "Если вы работаете в Word, можно вернуть код для таблицы в виде кода HTML:"
   ]
  },
  {
   "cell_type": "code",
   "execution_count": 13,
   "metadata": {},
   "outputs": [
    {
     "name": "stdout",
     "output_type": "stream",
     "text": [
      "<table style=\"text-align:center\"><tr><td colspan=\"3\" style=\"border-bottom: 1px solid black\"></td></tr>\n",
      "<tr><td style=\"text-align:left\"></td><td colspan=\"2\"><em>Dependent variable: ug_propose</em></td></tr><tr><td style=\"text-align:left\"></td><tr><td style=\"text-align:left\"></td><td>(1)</td><td>(2)</td></tr>\n",
      "<tr><td colspan=\"3\" style=\"border-bottom: 1px solid black\"></td></tr>\n",
      "\n",
      "<tr><td style=\"text-align:left\">Intercept</td><td>548.217<sup>***</sup></td><td>530.660<sup>***</sup></td></tr>\n",
      "<tr><td style=\"text-align:left\"></td><td>(22.373)</td><td>(24.551)</td></tr>\n",
      "<tr><td style=\"text-align:left\">country[T.CA]</td><td>14.288<sup></sup></td><td>15.079<sup></sup></td></tr>\n",
      "<tr><td style=\"text-align:left\"></td><td>(33.193)</td><td>(33.156)</td></tr>\n",
      "<tr><td style=\"text-align:left\">country[T.CH]</td><td>-64.731<sup>**</sup></td><td>-64.323<sup>**</sup></td></tr>\n",
      "<tr><td style=\"text-align:left\"></td><td>(30.756)</td><td>(30.720)</td></tr>\n",
      "<tr><td style=\"text-align:left\">country[T.DE]</td><td>-1.117<sup></sup></td><td>4.071<sup></sup></td></tr>\n",
      "<tr><td style=\"text-align:left\"></td><td>(33.787)</td><td>(33.880)</td></tr>\n",
      "<tr><td style=\"text-align:left\">country[T.US]</td><td>3.742<sup></sup></td><td>3.173<sup></sup></td></tr>\n",
      "<tr><td style=\"text-align:left\"></td><td>(21.417)</td><td>(21.393)</td></tr>\n",
      "<tr><td style=\"text-align:left\">ug_p2_copartisan</td><td>84.976<sup>***</sup></td><td>117.374<sup>***</sup></td></tr>\n",
      "<tr><td style=\"text-align:left\"></td><td>(17.613)</td><td>(25.718)</td></tr>\n",
      "<tr><td style=\"text-align:left\">ug_p2_politician</td><td>-110.605<sup>***</sup></td><td>-79.746<sup>***</sup></td></tr>\n",
      "<tr><td style=\"text-align:left\"></td><td>(17.697)</td><td>(25.134)</td></tr>\n",
      "<tr><td style=\"text-align:left\">ug_p2_politician:ug_p2_copartisan</td><td></td><td>-61.164<sup>*</sup></td></tr>\n",
      "<tr><td style=\"text-align:left\"></td><td></td><td>(35.419)</td></tr>\n",
      "<tr><td style=\"text-align:left\">ug_propose_first</td><td>0.741<sup></sup></td><td>2.008<sup></sup></td></tr>\n",
      "<tr><td style=\"text-align:left\"></td><td>(17.709)</td><td>(17.703)</td></tr>\n",
      "\n",
      "<td colspan=\"3\" style=\"border-bottom: 1px solid black\"></td></tr>\n",
      "<tr><td style=\"text-align: left\">Observations</td><td>827</td><td>827</td></tr><tr><td style=\"text-align: left\">R<sup>2</sup></td><td>0.077</td><td>0.080</td></tr><tr><td style=\"text-align: left\">Adjusted R<sup>2</sup></td><td>0.069</td><td>0.071</td></tr><tr><td style=\"text-align: left\">Residual Std. Error</td><td>252.898 (df=819)</td><td>252.592 (df=818)</td></tr><tr><td style=\"text-align: left\">F Statistic</td><td>9.700<sup>***</sup> (df=7; 819)</td><td>8.881<sup>***</sup> (df=8; 818)</td></tr>\n",
      "<tr><td colspan=\"3\" style=\"border-bottom: 1px solid black\"></td></tr><tr><td style=\"text-align: left\">Note:</td><td colspan=\"2\" style=\"text-align: right\"><sup>*</sup>p&lt;0.1; <sup>**</sup>p&lt;0.05; <sup>***</sup>p&lt;0.01</td></tr></table>\n"
     ]
    }
   ],
   "source": [
    "print(stargazer.render_html())"
   ]
  },
  {
   "cell_type": "markdown",
   "metadata": {},
   "source": [
    "Далее, в блокноте или прямо в Jupyter (*New* – *Text File*) можно создать новый текстовый файл с расширением `.htm` и скопировать туда код для таблицы. Это специфический формат, и как страницу HTML в браузере можно открыть, и как текст в редакторе в обработанном виде. Если открыть этот файл в браузере, мы увидим готовую сверстанную таблицу, если открыть с помощью Word или аналогичного текстового редактора, мы увидим таблицу, которую можно редактировать. \n",
    "\n",
    "При необходимости (а часто такая необходимость возникает, хотя бы для того, чтобы вывести значения с точностью до второго знака после точки) можно скорректировать настройки выгружаемых таблиц. Почитать про это можно в [тьюториале](https://github.com/StatsReporting/stargazer/blob/master/examples.ipynb) из официальной [документации](https://pypi.org/project/stargazer/)."
   ]
  }
 ],
 "metadata": {
  "kernelspec": {
   "display_name": "Python 3",
   "language": "python",
   "name": "python3"
  },
  "language_info": {
   "codemirror_mode": {
    "name": "ipython",
    "version": 3
   },
   "file_extension": ".py",
   "mimetype": "text/x-python",
   "name": "python",
   "nbconvert_exporter": "python",
   "pygments_lexer": "ipython3",
   "version": "3.7.4"
  }
 },
 "nbformat": 4,
 "nbformat_minor": 2
}
