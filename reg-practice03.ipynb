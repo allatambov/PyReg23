{
 "cells": [
  {
   "cell_type": "markdown",
   "metadata": {},
   "source": [
    "# Введение в регрессионный анализ\n",
    "\n",
    "## Практикум 3. Парная линейная регрессия: построение, проверка гипотез, коэффициент детерминации R2\n",
    "\n",
    "*Алла Тамбовцева*"
   ]
  },
  {
   "cell_type": "markdown",
   "metadata": {},
   "source": [
    "### Подготовка к работе: импорт необходимых библиотек и загрузка данных"
   ]
  },
  {
   "cell_type": "markdown",
   "metadata": {},
   "source": [
    "Установим библиотеку `seaborn` для более продвинутой и удобной визуализации данных:"
   ]
  },
  {
   "cell_type": "code",
   "execution_count": null,
   "metadata": {},
   "outputs": [],
   "source": [
    "!pip install seaborn"
   ]
  },
  {
   "cell_type": "markdown",
   "metadata": {},
   "source": [
    "Оператор `!` дает понять Jupyter, что выше мы написали не код на языке Python, а команду для установки, которая обычно пишется в командной строке.\n",
    "\n",
    "*Примечание.* Если некоторые строки кода ниже, в частности, `set_theme()` не работают, это, скорее всего, из-за того, что на компьютере уже установлена более старая версия `seaborn`, в которой некоторые функции отсутствовали или выглядели иначе. Поэтому при запуске `!pip install seaborn` новая версия не была установлена. Чтобы это исправить, можно установить новую версию, написав `!pip install seaborn --upgrade`.\n",
    "\n",
    "Импортируем эту библиотеку с сокращенным названием `sns` и заодно импортируем библиотеку `pandas` для загрузки и обработки данных:"
   ]
  },
  {
   "cell_type": "code",
   "execution_count": 1,
   "metadata": {},
   "outputs": [],
   "source": [
    "import seaborn as sns\n",
    "import pandas as pd"
   ]
  },
  {
   "cell_type": "markdown",
   "metadata": {},
   "source": [
    "Поскольку далее у нас будут встречаться графики, давайте сразу настроим общую тему графиков – чтобы на них присутствовала сетка, а фон при этом был белым:"
   ]
  },
  {
   "cell_type": "code",
   "execution_count": 2,
   "metadata": {},
   "outputs": [],
   "source": [
    "sns.set_theme(style = \"whitegrid\")"
   ]
  },
  {
   "cell_type": "markdown",
   "metadata": {},
   "source": [
    "Настройки сохранены, они будут применены ко всем типам графиков далее. Полный список настроек можно посмотреть в [документации](https://seaborn.pydata.org/generated/seaborn.set_theme.html) функции `set_theme()`."
   ]
  },
  {
   "cell_type": "markdown",
   "metadata": {},
   "source": [
    "Теперь загрузим данные из CSV-файла `flats.csv`:"
   ]
  },
  {
   "cell_type": "code",
   "execution_count": 3,
   "metadata": {},
   "outputs": [],
   "source": [
    "df = pd.read_csv(\"flats.csv\")"
   ]
  },
  {
   "cell_type": "markdown",
   "metadata": {},
   "source": [
    "Посмотрим на первые несколько строк датафрейма:"
   ]
  },
  {
   "cell_type": "code",
   "execution_count": 4,
   "metadata": {},
   "outputs": [
    {
     "data": {
      "text/html": [
       "<div>\n",
       "<style scoped>\n",
       "    .dataframe tbody tr th:only-of-type {\n",
       "        vertical-align: middle;\n",
       "    }\n",
       "\n",
       "    .dataframe tbody tr th {\n",
       "        vertical-align: top;\n",
       "    }\n",
       "\n",
       "    .dataframe thead th {\n",
       "        text-align: right;\n",
       "    }\n",
       "</style>\n",
       "<table border=\"1\" class=\"dataframe\">\n",
       "  <thead>\n",
       "    <tr style=\"text-align: right;\">\n",
       "      <th></th>\n",
       "      <th>price</th>\n",
       "      <th>totsp</th>\n",
       "      <th>livesp</th>\n",
       "      <th>kitsp</th>\n",
       "      <th>dist</th>\n",
       "      <th>metrdist</th>\n",
       "      <th>walk</th>\n",
       "      <th>brick</th>\n",
       "      <th>floor</th>\n",
       "    </tr>\n",
       "  </thead>\n",
       "  <tbody>\n",
       "    <tr>\n",
       "      <th>0</th>\n",
       "      <td>730</td>\n",
       "      <td>134</td>\n",
       "      <td>102</td>\n",
       "      <td>10.0</td>\n",
       "      <td>9.0</td>\n",
       "      <td>10</td>\n",
       "      <td>1</td>\n",
       "      <td>1</td>\n",
       "      <td>1</td>\n",
       "    </tr>\n",
       "    <tr>\n",
       "      <th>1</th>\n",
       "      <td>477</td>\n",
       "      <td>119</td>\n",
       "      <td>93</td>\n",
       "      <td>15.0</td>\n",
       "      <td>9.0</td>\n",
       "      <td>1</td>\n",
       "      <td>1</td>\n",
       "      <td>0</td>\n",
       "      <td>1</td>\n",
       "    </tr>\n",
       "    <tr>\n",
       "      <th>2</th>\n",
       "      <td>350</td>\n",
       "      <td>80</td>\n",
       "      <td>44</td>\n",
       "      <td>14.0</td>\n",
       "      <td>10.5</td>\n",
       "      <td>10</td>\n",
       "      <td>1</td>\n",
       "      <td>1</td>\n",
       "      <td>0</td>\n",
       "    </tr>\n",
       "    <tr>\n",
       "      <th>3</th>\n",
       "      <td>410</td>\n",
       "      <td>102</td>\n",
       "      <td>75</td>\n",
       "      <td>10.0</td>\n",
       "      <td>6.5</td>\n",
       "      <td>5</td>\n",
       "      <td>1</td>\n",
       "      <td>1</td>\n",
       "      <td>1</td>\n",
       "    </tr>\n",
       "    <tr>\n",
       "      <th>4</th>\n",
       "      <td>50</td>\n",
       "      <td>63</td>\n",
       "      <td>47</td>\n",
       "      <td>7.0</td>\n",
       "      <td>12.0</td>\n",
       "      <td>20</td>\n",
       "      <td>0</td>\n",
       "      <td>1</td>\n",
       "      <td>0</td>\n",
       "    </tr>\n",
       "  </tbody>\n",
       "</table>\n",
       "</div>"
      ],
      "text/plain": [
       "   price  totsp  livesp  kitsp  dist  metrdist  walk  brick  floor\n",
       "0    730    134     102   10.0   9.0        10     1      1      1\n",
       "1    477    119      93   15.0   9.0         1     1      0      1\n",
       "2    350     80      44   14.0  10.5        10     1      1      0\n",
       "3    410    102      75   10.0   6.5         5     1      1      1\n",
       "4     50     63      47    7.0  12.0        20     0      1      0"
      ]
     },
     "execution_count": 4,
     "metadata": {},
     "output_type": "execute_result"
    }
   ],
   "source": [
    "df.head()"
   ]
  },
  {
   "cell_type": "markdown",
   "metadata": {},
   "source": [
    "Напоминание – переменные в файле: \n",
    "\n",
    "* `price`: цена квартиры, в тысячах долларов;\n",
    "* `totsp`: общая площадь, в кв.метрах;\n",
    "* `livesp`: жилая площадь, в кв.метрах;\n",
    "* `kitsp`: площадь кухни, в кв.метрах;\n",
    "* `dist`: расстояние до центра города, в км;\n",
    "* `metrdist`: расстояние до метро, в мин;\n",
    "* `walk`: шаговая доступность до метро, 0 или 1;\n",
    "* `brick`: дом из кирпича или аналогичного «капитального» материала, 0 или 1; • floor: удобный ли этаж (не первый и последний), 0 или 1."
   ]
  },
  {
   "cell_type": "markdown",
   "metadata": {},
   "source": [
    "### Парная регрессия: построение, проверка гипотез и R2"
   ]
  },
  {
   "cell_type": "markdown",
   "metadata": {},
   "source": [
    "Приступим к изучению взаимосвязи между ценой квартиры и ее жилой площадью, а точнее, к построению регрессионной модели. Для этого нам понадобится функция `ols` из модуля внутри библиотеки `statsmodels`. Вспомним, что OLS расшифровывается как *ordinary least squares*, то есть метод наименьших квадратов (МНК) для оценки коэффициентов линейной регрессии, и импортируем эту функцию:"
   ]
  },
  {
   "cell_type": "code",
   "execution_count": 5,
   "metadata": {},
   "outputs": [
    {
     "name": "stderr",
     "output_type": "stream",
     "text": [
      "/opt/anaconda3/lib/python3.7/site-packages/statsmodels/tools/_testing.py:19: FutureWarning: pandas.util.testing is deprecated. Use the functions in the public API at pandas.testing instead.\n",
      "  import pandas.util.testing as tm\n"
     ]
    }
   ],
   "source": [
    "from statsmodels.formula.api import ols"
   ]
  },
  {
   "cell_type": "markdown",
   "metadata": {},
   "source": [
    "Теперь построим модель парной линейной регрессии, которая покажет, каким образом цена квартиры зависит от жилой площади:\n",
    "\n",
    "$$\n",
    "\\widehat{\\text{price}}_i=\\hat{b}_0 +\\hat{b}_1 \\times \\text{livesp}_i.\n",
    "$$\n",
    "\n",
    "Запишем внутри функции `ols()` формулу вида `y ~ x`, где `y` – зависимая переменная, а `x` – независимая переменная, а затем укажем название датафрейма, откуда брать эти переменные `y` и `x`:"
   ]
  },
  {
   "cell_type": "code",
   "execution_count": 6,
   "metadata": {},
   "outputs": [
    {
     "data": {
      "text/plain": [
       "<statsmodels.regression.linear_model.OLS at 0x1a2a606d10>"
      ]
     },
     "execution_count": 6,
     "metadata": {},
     "output_type": "execute_result"
    }
   ],
   "source": [
    "ols(\"price ~ livesp\", df)"
   ]
  },
  {
   "cell_type": "markdown",
   "metadata": {},
   "source": [
    "Python создал объект «линейная модель, оцененная методом наименьших квадратов», но пока ее не оценил, то есть не вычислил коэффициенты $\\hat{b}_0$ и $\\hat{b}_1$. Чтобы он это сделал, нужно применить к этой модели метод `.fit()`:"
   ]
  },
  {
   "cell_type": "code",
   "execution_count": 7,
   "metadata": {},
   "outputs": [],
   "source": [
    "model01 = ols(\"price ~ livesp\", df).fit()"
   ]
  },
  {
   "cell_type": "markdown",
   "metadata": {},
   "source": [
    "Ура! Модель получена, выведем подробную выдачу с результатами, применив метод `.summary()`:"
   ]
  },
  {
   "cell_type": "code",
   "execution_count": 8,
   "metadata": {},
   "outputs": [
    {
     "data": {
      "text/html": [
       "<table class=\"simpletable\">\n",
       "<caption>OLS Regression Results</caption>\n",
       "<tr>\n",
       "  <th>Dep. Variable:</th>          <td>price</td>      <th>  R-squared:         </th> <td>   0.532</td> \n",
       "</tr>\n",
       "<tr>\n",
       "  <th>Model:</th>                   <td>OLS</td>       <th>  Adj. R-squared:    </th> <td>   0.532</td> \n",
       "</tr>\n",
       "<tr>\n",
       "  <th>Method:</th>             <td>Least Squares</td>  <th>  F-statistic:       </th> <td>   2320.</td> \n",
       "</tr>\n",
       "<tr>\n",
       "  <th>Date:</th>             <td>Fri, 13 Oct 2023</td> <th>  Prob (F-statistic):</th>  <td>  0.00</td>  \n",
       "</tr>\n",
       "<tr>\n",
       "  <th>Time:</th>                 <td>02:24:46</td>     <th>  Log-Likelihood:    </th> <td> -10175.</td> \n",
       "</tr>\n",
       "<tr>\n",
       "  <th>No. Observations:</th>      <td>  2040</td>      <th>  AIC:               </th> <td>2.035e+04</td>\n",
       "</tr>\n",
       "<tr>\n",
       "  <th>Df Residuals:</th>          <td>  2038</td>      <th>  BIC:               </th> <td>2.036e+04</td>\n",
       "</tr>\n",
       "<tr>\n",
       "  <th>Df Model:</th>              <td>     1</td>      <th>                     </th>     <td> </td>    \n",
       "</tr>\n",
       "<tr>\n",
       "  <th>Covariance Type:</th>      <td>nonrobust</td>    <th>                     </th>     <td> </td>    \n",
       "</tr>\n",
       "</table>\n",
       "<table class=\"simpletable\">\n",
       "<tr>\n",
       "      <td></td>         <th>coef</th>     <th>std err</th>      <th>t</th>      <th>P>|t|</th>  <th>[0.025</th>    <th>0.975]</th>  \n",
       "</tr>\n",
       "<tr>\n",
       "  <th>Intercept</th> <td>  -94.6768</td> <td>    4.679</td> <td>  -20.233</td> <td> 0.000</td> <td> -103.853</td> <td>  -85.500</td>\n",
       "</tr>\n",
       "<tr>\n",
       "  <th>livesp</th>    <td>    4.7947</td> <td>    0.100</td> <td>   48.165</td> <td> 0.000</td> <td>    4.599</td> <td>    4.990</td>\n",
       "</tr>\n",
       "</table>\n",
       "<table class=\"simpletable\">\n",
       "<tr>\n",
       "  <th>Omnibus:</th>       <td>927.512</td> <th>  Durbin-Watson:     </th> <td>   1.749</td>\n",
       "</tr>\n",
       "<tr>\n",
       "  <th>Prob(Omnibus):</th> <td> 0.000</td>  <th>  Jarque-Bera (JB):  </th> <td>9175.101</td>\n",
       "</tr>\n",
       "<tr>\n",
       "  <th>Skew:</th>          <td> 1.884</td>  <th>  Prob(JB):          </th> <td>    0.00</td>\n",
       "</tr>\n",
       "<tr>\n",
       "  <th>Kurtosis:</th>      <td>12.682</td>  <th>  Cond. No.          </th> <td>    280.</td>\n",
       "</tr>\n",
       "</table><br/><br/>Warnings:<br/>[1] Standard Errors assume that the covariance matrix of the errors is correctly specified."
      ],
      "text/plain": [
       "<class 'statsmodels.iolib.summary.Summary'>\n",
       "\"\"\"\n",
       "                            OLS Regression Results                            \n",
       "==============================================================================\n",
       "Dep. Variable:                  price   R-squared:                       0.532\n",
       "Model:                            OLS   Adj. R-squared:                  0.532\n",
       "Method:                 Least Squares   F-statistic:                     2320.\n",
       "Date:                Fri, 13 Oct 2023   Prob (F-statistic):               0.00\n",
       "Time:                        02:24:46   Log-Likelihood:                -10175.\n",
       "No. Observations:                2040   AIC:                         2.035e+04\n",
       "Df Residuals:                    2038   BIC:                         2.036e+04\n",
       "Df Model:                           1                                         \n",
       "Covariance Type:            nonrobust                                         \n",
       "==============================================================================\n",
       "                 coef    std err          t      P>|t|      [0.025      0.975]\n",
       "------------------------------------------------------------------------------\n",
       "Intercept    -94.6768      4.679    -20.233      0.000    -103.853     -85.500\n",
       "livesp         4.7947      0.100     48.165      0.000       4.599       4.990\n",
       "==============================================================================\n",
       "Omnibus:                      927.512   Durbin-Watson:                   1.749\n",
       "Prob(Omnibus):                  0.000   Jarque-Bera (JB):             9175.101\n",
       "Skew:                           1.884   Prob(JB):                         0.00\n",
       "Kurtosis:                      12.682   Cond. No.                         280.\n",
       "==============================================================================\n",
       "\n",
       "Warnings:\n",
       "[1] Standard Errors assume that the covariance matrix of the errors is correctly specified.\n",
       "\"\"\""
      ]
     },
     "execution_count": 8,
     "metadata": {},
     "output_type": "execute_result"
    }
   ],
   "source": [
    "model01.summary()"
   ]
  },
  {
   "cell_type": "markdown",
   "metadata": {},
   "source": [
    "В первой части выдачи сохранена сводная информация по модели. Из самого актуального пока здесь только число наблюдений (`No.observations`), коэффициент детерминации $R^2$ (`R-squared`) и его скорректированная версия (`Adj. R-squared`)."
   ]
  },
  {
   "cell_type": "markdown",
   "metadata": {},
   "source": [
    "**Интерпретация:** так как $R^2$ у этой модели равен примерно 0.53, можем заключить, что модель объясняет 53% дисперсии зависимой переменной. То есть, если предположить между жилой площадью и ценой квартиры линейную связь, разнообразие значений цен на квартиры на 53% можно объяснить тем, что квартиры отличаются друг о друга величиной жилой площади. Такой процент объясненной дисперсии нельзя считать очень высоким, но это вполне ожидаемо: странно ожидать очень высокой объяснимой силы от модели, которая предполагает, что цена квартиры завсисит только от ее площади.\n",
    "\n",
    "**Комментарий:** давайте заодно отметим, что такое `df residuals`. Это число степеней свободы для остатков, считается как число наблюдений минус число коэффициентов, оцениваемых в модели. Так как модель у нас парная, коэффициентов всего два ($\\hat{b}_0$ и $\\hat{b}_1$), значение `df` здесь $2040 - 2 = 2038$. "
   ]
  },
  {
   "cell_type": "markdown",
   "metadata": {},
   "source": [
    "Перейдем к основной части выдачи – коэффициентам. "
   ]
  },
  {
   "cell_type": "markdown",
   "metadata": {},
   "source": [
    "Начнем с уравнения модели, выпишем коэффициенты из `coef` и подставим в уравнение (`Intercept` – константа): \n",
    "    \n",
    "$$\n",
    "\\widehat{\\text{price}_i} = -94.68 + 4.79 \\times \\text{livesp}_i.\n",
    "$$\n",
    "    \n",
    "    \n",
    "**Интерпретация:**\n",
    "\n",
    "* **Константа** в данном случае не интерпретируема: сложно представить себе квартиру площадью 0 квадратных метров и оценить ее стоимость. Поэтому вполне логично, что константа даже получилась отрицательной (отрицательной стоимость быть не может).\n",
    "\n",
    "* А вот с **оценкой коэффициента при жилой площади** `livesp` все в порядке. При увеличении жилой площади квартиры на 1 квадратный метр, ее стоимость, в среднем, увеличивается на 4.79 тысячи долларов. При этом стоит понимать, что эта интерпретация, естественная и математически корректная, может немного вводить в заблуждение. Так как в реальности мы не можем экспериментально увеличивать площадь квартиры и смотреть, как это отразится на ее стоимости, эту интерпретацию стоит понимать так: если мы будем сравнивать две квартиры, которые отличаются друг от друга только жилой площадью, та квартира, которая на 1 квадратный метр больше, в среднем, будет на 4.79 тысячи долларов дороже.\n",
    "\n",
    "Если говорить о значимости, то оценку коэффициента при `livesp` **можно считать значимо отличной от 0, то есть статистически значимой на 5%-ном уровне значимости**, по двум причинам:\n",
    "\n",
    "* во-первых, **p-value** (`P>|t|`), вычисленное на основе наблюдаемого значения t-статистики для этого коэффициента, равно 0, что меньше 0.05, следовательно, нулевая гипотеза о незначимости оценки коэффициента отвергается;\n",
    "* во-вторых, само **наблюдаемое значение t-статистики** равно 48.165, огромное, точно выходит за границы типичных значений статистики от $-2$ до $2$ (для 95%-ного уровня доверия), то есть попадает в критическую область, в зону отвержения нулевой гипотезы.\n",
    "\n",
    "На самом деле, можно найти еще и третью причину такого вывода. Если мы посмотрим на 95%-ный доверительный интервал для оценки коэффициента (а он здесь от 4.599\tдо 4.990), мы заметим, что он не включает 0, что также свидетельствует о значимом (на 5%-ном уровне значимости) отличии от 0. "
   ]
  },
  {
   "cell_type": "markdown",
   "metadata": {},
   "source": [
    "Последнюю часть выдачи пока трогать не будем, ещё рано. Лучше представим выдачу выше в более компактном виде: "
   ]
  },
  {
   "cell_type": "code",
   "execution_count": 9,
   "metadata": {},
   "outputs": [
    {
     "name": "stdout",
     "output_type": "stream",
     "text": [
      "                            OLS Regression Results                            \n",
      "==============================================================================\n",
      "Dep. Variable:                  price   R-squared:                       0.532\n",
      "Model:                            OLS   Adj. R-squared:                  0.532\n",
      "Method:                 Least Squares   F-statistic:                     2320.\n",
      "Date:                Fri, 13 Oct 2023   Prob (F-statistic):               0.00\n",
      "Time:                        02:24:47   Log-Likelihood:                -10175.\n",
      "No. Observations:                2040   AIC:                         2.035e+04\n",
      "Df Residuals:                    2038   BIC:                         2.036e+04\n",
      "Df Model:                           1                                         \n",
      "Covariance Type:            nonrobust                                         \n",
      "==============================================================================\n",
      "                 coef    std err          t      P>|t|      [0.025      0.975]\n",
      "------------------------------------------------------------------------------\n",
      "Intercept    -94.6768      4.679    -20.233      0.000    -103.853     -85.500\n",
      "livesp         4.7947      0.100     48.165      0.000       4.599       4.990\n",
      "==============================================================================\n",
      "Omnibus:                      927.512   Durbin-Watson:                   1.749\n",
      "Prob(Omnibus):                  0.000   Jarque-Bera (JB):             9175.101\n",
      "Skew:                           1.884   Prob(JB):                         0.00\n",
      "Kurtosis:                      12.682   Cond. No.                         280.\n",
      "==============================================================================\n",
      "\n",
      "Warnings:\n",
      "[1] Standard Errors assume that the covariance matrix of the errors is correctly specified.\n"
     ]
    }
   ],
   "source": [
    "print(model01.summary())"
   ]
  },
  {
   "cell_type": "markdown",
   "metadata": {},
   "source": [
    "Коэффициенты модели можно запросить отдельно, извлечь их из объекта `model01` как атрибут:"
   ]
  },
  {
   "cell_type": "code",
   "execution_count": 10,
   "metadata": {},
   "outputs": [
    {
     "name": "stdout",
     "output_type": "stream",
     "text": [
      "Intercept   -94.676811\n",
      "livesp        4.794703\n",
      "dtype: float64\n"
     ]
    }
   ],
   "source": [
    "print(model01.params)"
   ]
  },
  {
   "cell_type": "markdown",
   "metadata": {},
   "source": [
    "С таким же успехом можно извлечь и другие характеристики модели, например, коэффициент детерминации $R^2$:"
   ]
  },
  {
   "cell_type": "code",
   "execution_count": 11,
   "metadata": {},
   "outputs": [
    {
     "name": "stdout",
     "output_type": "stream",
     "text": [
      "0.5323360083818047\n"
     ]
    }
   ],
   "source": [
    "print(model01.rsquared)"
   ]
  },
  {
   "cell_type": "markdown",
   "metadata": {},
   "source": [
    "Или суммы квадратов, которые используются для вычисления $R^2$:"
   ]
  },
  {
   "cell_type": "code",
   "execution_count": 12,
   "metadata": {},
   "outputs": [
    {
     "name": "stdout",
     "output_type": "stream",
     "text": [
      "2921280.071642009\n",
      "2566381.9043383827\n",
      "5487661.975980392\n"
     ]
    }
   ],
   "source": [
    "print(model01.ess) # ESS: explained\n",
    "print(model01.ssr) # RSS: residual \n",
    "print(model01.centered_tss) # TSS: total"
   ]
  },
  {
   "cell_type": "markdown",
   "metadata": {},
   "source": [
    "Поделим ESS на TSS и проверим, что это действительно совпадает с коэффициентом детерминации:"
   ]
  },
  {
   "cell_type": "code",
   "execution_count": 13,
   "metadata": {},
   "outputs": [
    {
     "data": {
      "text/plain": [
       "0.5323360083818047"
      ]
     },
     "execution_count": 13,
     "metadata": {},
     "output_type": "execute_result"
    }
   ],
   "source": [
    "model01.ess / model01.centered_tss # совпадает!"
   ]
  },
  {
   "cell_type": "markdown",
   "metadata": {},
   "source": [
    "### Парная регрессия: визуализация и доверительные интервалы"
   ]
  },
  {
   "cell_type": "markdown",
   "metadata": {},
   "source": [
    "Теперь давайте, используя `seaborn`, построим диаграмму рассеивания с добавленной на нее регрессионной прямой. \n",
    "Для этого нам понадобится специальная функция `lmplot()`: "
   ]
  },
  {
   "cell_type": "code",
   "execution_count": 14,
   "metadata": {},
   "outputs": [
    {
     "data": {
      "image/png": "[encoded data removed]",
      "text/plain": [
       "<Figure size 360x360 with 1 Axes>"
      ]
     },
     "metadata": {},
     "output_type": "display_data"
    }
   ],
   "source": [
    "sns.lmplot(data = df, x = \"livesp\", y = \"price\");"
   ]
  },
  {
   "cell_type": "markdown",
   "metadata": {},
   "source": [
    "Устройство этой функции простое: в `data` указываем название датафрейма, столбцы из которого мы используем для построения графика, а затем в `x` и `y` перечисляем сами названия этих столбцов."
   ]
  },
  {
   "cell_type": "markdown",
   "metadata": {},
   "source": [
    "График получился вполне наглядным, построена регрессионная прямая с добавленным 95%-ным доверительным интервалом для нее (закрашенный «коридор» вокруг прямой, который показывает, где с 95%-ной уверенностью эта прямая может лежать, если мы учтем, что регрессию можно строить и на других выборках, на которых значения оценок коэффициентов $\\hat{b}_0$ и $\\hat{b}_1$, определяющих вид и наклон прямой, будут другими).\n",
    "\n"
   ]
  },
  {
   "cell_type": "markdown",
   "metadata": {},
   "source": [
    "Давайте подумаем, как этот «коридор» мог быть построен! Для начала вспомним, как строятся 95%-ные доверительные интервалы для оценок $\\hat{b}_0$ и $\\hat{b}_1$. Выведем сами оценки коэффициентов: "
   ]
  },
  {
   "cell_type": "code",
   "execution_count": 15,
   "metadata": {},
   "outputs": [
    {
     "name": "stdout",
     "output_type": "stream",
     "text": [
      "-94.6768106892147 4.794703091211039\n"
     ]
    }
   ],
   "source": [
    "# сохраняем их в переменные для удобства\n",
    "b0, b1 = model01.params\n",
    "print(b0, b1)"
   ]
  },
  {
   "cell_type": "markdown",
   "metadata": {},
   "source": [
    "Теперь их стандартные ошибки:"
   ]
  },
  {
   "cell_type": "code",
   "execution_count": 16,
   "metadata": {},
   "outputs": [
    {
     "name": "stdout",
     "output_type": "stream",
     "text": [
      "4.679225030128096 0.09954825996867937\n"
     ]
    }
   ],
   "source": [
    "# тоже сохраняем их для удобства\n",
    "se_b0, se_b1 = model01.bse\n",
    "print(se_b0, se_b1)"
   ]
  },
  {
   "cell_type": "markdown",
   "metadata": {},
   "source": [
    "Наконец, построим 95%-ный доверительный интервал для $\\hat{b}_0$:"
   ]
  },
  {
   "cell_type": "code",
   "execution_count": 17,
   "metadata": {},
   "outputs": [
    {
     "data": {
      "text/plain": [
       "(-104.0352607494709, -85.31836062895852)"
      ]
     },
     "execution_count": 17,
     "metadata": {},
     "output_type": "execute_result"
    }
   ],
   "source": [
    "# 95%-ный доверительный интервал для b^0\n",
    "(b0 - 2 * se_b0, b0 + 2 * se_b0)"
   ]
  },
  {
   "cell_type": "markdown",
   "metadata": {},
   "source": [
    "И 95%-ный доверительный интервал для $\\hat{b}_1$:"
   ]
  },
  {
   "cell_type": "code",
   "execution_count": 18,
   "metadata": {},
   "outputs": [
    {
     "data": {
      "text/plain": [
       "(4.59560657127368, 4.993799611148398)"
      ]
     },
     "execution_count": 18,
     "metadata": {},
     "output_type": "execute_result"
    }
   ],
   "source": [
    "# 95%-ный доверительный интервал для b^1\n",
    "(b1 - 2 * se_b1, b1 + 2 * se_b1)"
   ]
  },
  {
   "cell_type": "markdown",
   "metadata": {},
   "source": [
    "Итак, что делает Python при построении «коридора» для прямой на графике? Он подставляет границы полученных интервалов в уравнение регрессии на место $\\hat{b}_0$ и $\\hat{b}_1$, получает самую «низкую» линию из возможных и самую «высокую» линию из возможных, формирует из них границы «коридора» и закрашивает, что внутри."
   ]
  }
 ],
 "metadata": {
  "kernelspec": {
   "display_name": "Python 3",
   "language": "python",
   "name": "python3"
  },
  "language_info": {
   "codemirror_mode": {
    "name": "ipython",
    "version": 3
   },
   "file_extension": ".py",
   "mimetype": "text/x-python",
   "name": "python",
   "nbconvert_exporter": "python",
   "pygments_lexer": "ipython3",
   "version": "3.7.4"
  }
 },
 "nbformat": 4,
 "nbformat_minor": 2
}
